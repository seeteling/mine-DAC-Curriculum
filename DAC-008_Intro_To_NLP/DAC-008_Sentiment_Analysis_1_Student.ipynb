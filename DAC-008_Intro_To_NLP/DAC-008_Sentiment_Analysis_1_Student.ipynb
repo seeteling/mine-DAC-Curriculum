{
 "cells": [
  {
   "cell_type": "markdown",
   "metadata": {
    "id": "p1TGlRXDTc8r"
   },
   "source": [
    "# Sentiment Analysis 1"
   ]
  },
  {
   "cell_type": "markdown",
   "metadata": {
    "id": "1rKT_aAfTl7F"
   },
   "source": [
    "## Table of Contents:\n",
    "Twitter Analysis of the Russian-Ukraine Crisis\n",
    "  * Data Preprocessing\n",
    "  * EDA\n",
    "  * Feature Extraction\n",
    "  * ML Model Predictions\n",
    "  * Cross Validation\n",
    "  * Evaluation"
   ]
  },
  {
   "cell_type": "markdown",
   "metadata": {
    "id": "dUIu_gdSUYSd"
   },
   "source": [
    "### Import Libraries"
   ]
  },
  {
   "cell_type": "code",
   "execution_count": 17,
   "metadata": {
    "colab": {
     "base_uri": "https://localhost:8080/"
    },
    "executionInfo": {
     "elapsed": 80514,
     "status": "ok",
     "timestamp": 1700560683666,
     "user": {
      "displayName": "Jaryl L",
      "userId": "00435829646488835810"
     },
     "user_tz": -480
    },
    "id": "wWYtj4WVUMS4",
    "outputId": "eda48949-7d2b-456a-edaa-ca7173a0c516"
   },
   "outputs": [
    {
     "name": "stderr",
     "output_type": "stream",
     "text": [
      "[nltk_data] Downloading collection 'all'\n",
      "[nltk_data]    | \n",
      "[nltk_data]    | Downloading package abc to\n",
      "[nltk_data]    |     C:\\Users\\E-Ling\\AppData\\Roaming\\nltk_data...\n",
      "[nltk_data]    |   Package abc is already up-to-date!\n",
      "[nltk_data]    | Downloading package alpino to\n",
      "[nltk_data]    |     C:\\Users\\E-Ling\\AppData\\Roaming\\nltk_data...\n",
      "[nltk_data]    |   Package alpino is already up-to-date!\n",
      "[nltk_data]    | Downloading package averaged_perceptron_tagger to\n",
      "[nltk_data]    |     C:\\Users\\E-Ling\\AppData\\Roaming\\nltk_data...\n",
      "[nltk_data]    |   Package averaged_perceptron_tagger is already up-\n",
      "[nltk_data]    |       to-date!\n",
      "[nltk_data]    | Downloading package averaged_perceptron_tagger_eng to\n",
      "[nltk_data]    |     C:\\Users\\E-Ling\\AppData\\Roaming\\nltk_data...\n",
      "[nltk_data]    |   Package averaged_perceptron_tagger_eng is already\n",
      "[nltk_data]    |       up-to-date!\n",
      "[nltk_data]    | Downloading package averaged_perceptron_tagger_ru to\n",
      "[nltk_data]    |     C:\\Users\\E-Ling\\AppData\\Roaming\\nltk_data...\n",
      "[nltk_data]    |   Package averaged_perceptron_tagger_ru is already\n",
      "[nltk_data]    |       up-to-date!\n",
      "[nltk_data]    | Downloading package averaged_perceptron_tagger_rus to\n",
      "[nltk_data]    |     C:\\Users\\E-Ling\\AppData\\Roaming\\nltk_data...\n",
      "[nltk_data]    |   Package averaged_perceptron_tagger_rus is already\n",
      "[nltk_data]    |       up-to-date!\n",
      "[nltk_data]    | Downloading package basque_grammars to\n",
      "[nltk_data]    |     C:\\Users\\E-Ling\\AppData\\Roaming\\nltk_data...\n",
      "[nltk_data]    |   Package basque_grammars is already up-to-date!\n",
      "[nltk_data]    | Downloading package bcp47 to\n",
      "[nltk_data]    |     C:\\Users\\E-Ling\\AppData\\Roaming\\nltk_data...\n",
      "[nltk_data]    |   Package bcp47 is already up-to-date!\n",
      "[nltk_data]    | Downloading package biocreative_ppi to\n",
      "[nltk_data]    |     C:\\Users\\E-Ling\\AppData\\Roaming\\nltk_data...\n",
      "[nltk_data]    |   Package biocreative_ppi is already up-to-date!\n",
      "[nltk_data]    | Downloading package bllip_wsj_no_aux to\n",
      "[nltk_data]    |     C:\\Users\\E-Ling\\AppData\\Roaming\\nltk_data...\n",
      "[nltk_data]    |   Package bllip_wsj_no_aux is already up-to-date!\n",
      "[nltk_data]    | Downloading package book_grammars to\n",
      "[nltk_data]    |     C:\\Users\\E-Ling\\AppData\\Roaming\\nltk_data...\n",
      "[nltk_data]    |   Package book_grammars is already up-to-date!\n",
      "[nltk_data]    | Downloading package brown to\n",
      "[nltk_data]    |     C:\\Users\\E-Ling\\AppData\\Roaming\\nltk_data...\n",
      "[nltk_data]    |   Package brown is already up-to-date!\n",
      "[nltk_data]    | Downloading package brown_tei to\n",
      "[nltk_data]    |     C:\\Users\\E-Ling\\AppData\\Roaming\\nltk_data...\n",
      "[nltk_data]    |   Package brown_tei is already up-to-date!\n",
      "[nltk_data]    | Downloading package cess_cat to\n",
      "[nltk_data]    |     C:\\Users\\E-Ling\\AppData\\Roaming\\nltk_data...\n",
      "[nltk_data]    |   Package cess_cat is already up-to-date!\n",
      "[nltk_data]    | Downloading package cess_esp to\n",
      "[nltk_data]    |     C:\\Users\\E-Ling\\AppData\\Roaming\\nltk_data...\n",
      "[nltk_data]    |   Package cess_esp is already up-to-date!\n",
      "[nltk_data]    | Downloading package chat80 to\n",
      "[nltk_data]    |     C:\\Users\\E-Ling\\AppData\\Roaming\\nltk_data...\n",
      "[nltk_data]    |   Package chat80 is already up-to-date!\n",
      "[nltk_data]    | Downloading package city_database to\n",
      "[nltk_data]    |     C:\\Users\\E-Ling\\AppData\\Roaming\\nltk_data...\n",
      "[nltk_data]    |   Package city_database is already up-to-date!\n",
      "[nltk_data]    | Downloading package cmudict to\n",
      "[nltk_data]    |     C:\\Users\\E-Ling\\AppData\\Roaming\\nltk_data...\n",
      "[nltk_data]    |   Package cmudict is already up-to-date!\n",
      "[nltk_data]    | Downloading package comparative_sentences to\n",
      "[nltk_data]    |     C:\\Users\\E-Ling\\AppData\\Roaming\\nltk_data...\n",
      "[nltk_data]    |   Package comparative_sentences is already up-to-\n",
      "[nltk_data]    |       date!\n",
      "[nltk_data]    | Downloading package comtrans to\n",
      "[nltk_data]    |     C:\\Users\\E-Ling\\AppData\\Roaming\\nltk_data...\n",
      "[nltk_data]    |   Package comtrans is already up-to-date!\n",
      "[nltk_data]    | Downloading package conll2000 to\n",
      "[nltk_data]    |     C:\\Users\\E-Ling\\AppData\\Roaming\\nltk_data...\n",
      "[nltk_data]    |   Package conll2000 is already up-to-date!\n",
      "[nltk_data]    | Downloading package conll2002 to\n",
      "[nltk_data]    |     C:\\Users\\E-Ling\\AppData\\Roaming\\nltk_data...\n",
      "[nltk_data]    |   Package conll2002 is already up-to-date!\n",
      "[nltk_data]    | Downloading package conll2007 to\n",
      "[nltk_data]    |     C:\\Users\\E-Ling\\AppData\\Roaming\\nltk_data...\n",
      "[nltk_data]    |   Package conll2007 is already up-to-date!\n",
      "[nltk_data]    | Downloading package crubadan to\n",
      "[nltk_data]    |     C:\\Users\\E-Ling\\AppData\\Roaming\\nltk_data...\n",
      "[nltk_data]    |   Package crubadan is already up-to-date!\n",
      "[nltk_data]    | Downloading package dependency_treebank to\n",
      "[nltk_data]    |     C:\\Users\\E-Ling\\AppData\\Roaming\\nltk_data...\n",
      "[nltk_data]    |   Package dependency_treebank is already up-to-date!\n",
      "[nltk_data]    | Downloading package dolch to\n",
      "[nltk_data]    |     C:\\Users\\E-Ling\\AppData\\Roaming\\nltk_data...\n",
      "[nltk_data]    |   Package dolch is already up-to-date!\n",
      "[nltk_data]    | Downloading package europarl_raw to\n",
      "[nltk_data]    |     C:\\Users\\E-Ling\\AppData\\Roaming\\nltk_data...\n",
      "[nltk_data]    |   Package europarl_raw is already up-to-date!\n",
      "[nltk_data]    | Downloading package extended_omw to\n",
      "[nltk_data]    |     C:\\Users\\E-Ling\\AppData\\Roaming\\nltk_data...\n",
      "[nltk_data]    |   Package extended_omw is already up-to-date!\n",
      "[nltk_data]    | Downloading package floresta to\n",
      "[nltk_data]    |     C:\\Users\\E-Ling\\AppData\\Roaming\\nltk_data...\n",
      "[nltk_data]    |   Package floresta is already up-to-date!\n",
      "[nltk_data]    | Downloading package framenet_v15 to\n",
      "[nltk_data]    |     C:\\Users\\E-Ling\\AppData\\Roaming\\nltk_data...\n",
      "[nltk_data]    |   Package framenet_v15 is already up-to-date!\n",
      "[nltk_data]    | Downloading package framenet_v17 to\n",
      "[nltk_data]    |     C:\\Users\\E-Ling\\AppData\\Roaming\\nltk_data...\n",
      "[nltk_data]    |   Package framenet_v17 is already up-to-date!\n",
      "[nltk_data]    | Downloading package gazetteers to\n",
      "[nltk_data]    |     C:\\Users\\E-Ling\\AppData\\Roaming\\nltk_data...\n",
      "[nltk_data]    |   Package gazetteers is already up-to-date!\n",
      "[nltk_data]    | Downloading package genesis to\n",
      "[nltk_data]    |     C:\\Users\\E-Ling\\AppData\\Roaming\\nltk_data...\n",
      "[nltk_data]    |   Package genesis is already up-to-date!\n",
      "[nltk_data]    | Downloading package gutenberg to\n",
      "[nltk_data]    |     C:\\Users\\E-Ling\\AppData\\Roaming\\nltk_data...\n",
      "[nltk_data]    |   Package gutenberg is already up-to-date!\n",
      "[nltk_data]    | Downloading package ieer to\n",
      "[nltk_data]    |     C:\\Users\\E-Ling\\AppData\\Roaming\\nltk_data...\n",
      "[nltk_data]    |   Package ieer is already up-to-date!\n",
      "[nltk_data]    | Downloading package inaugural to\n",
      "[nltk_data]    |     C:\\Users\\E-Ling\\AppData\\Roaming\\nltk_data...\n",
      "[nltk_data]    |   Package inaugural is already up-to-date!\n",
      "[nltk_data]    | Downloading package indian to\n",
      "[nltk_data]    |     C:\\Users\\E-Ling\\AppData\\Roaming\\nltk_data...\n",
      "[nltk_data]    |   Package indian is already up-to-date!\n",
      "[nltk_data]    | Downloading package jeita to\n",
      "[nltk_data]    |     C:\\Users\\E-Ling\\AppData\\Roaming\\nltk_data...\n",
      "[nltk_data]    |   Package jeita is already up-to-date!\n",
      "[nltk_data]    | Downloading package kimmo to\n",
      "[nltk_data]    |     C:\\Users\\E-Ling\\AppData\\Roaming\\nltk_data...\n",
      "[nltk_data]    |   Package kimmo is already up-to-date!\n",
      "[nltk_data]    | Downloading package knbc to\n",
      "[nltk_data]    |     C:\\Users\\E-Ling\\AppData\\Roaming\\nltk_data...\n",
      "[nltk_data]    |   Package knbc is already up-to-date!\n",
      "[nltk_data]    | Downloading package large_grammars to\n",
      "[nltk_data]    |     C:\\Users\\E-Ling\\AppData\\Roaming\\nltk_data...\n",
      "[nltk_data]    |   Package large_grammars is already up-to-date!\n",
      "[nltk_data]    | Downloading package lin_thesaurus to\n",
      "[nltk_data]    |     C:\\Users\\E-Ling\\AppData\\Roaming\\nltk_data...\n",
      "[nltk_data]    |   Package lin_thesaurus is already up-to-date!\n",
      "[nltk_data]    | Downloading package mac_morpho to\n",
      "[nltk_data]    |     C:\\Users\\E-Ling\\AppData\\Roaming\\nltk_data...\n",
      "[nltk_data]    |   Package mac_morpho is already up-to-date!\n",
      "[nltk_data]    | Downloading package machado to\n",
      "[nltk_data]    |     C:\\Users\\E-Ling\\AppData\\Roaming\\nltk_data...\n",
      "[nltk_data]    |   Package machado is already up-to-date!\n",
      "[nltk_data]    | Downloading package masc_tagged to\n",
      "[nltk_data]    |     C:\\Users\\E-Ling\\AppData\\Roaming\\nltk_data...\n",
      "[nltk_data]    |   Package masc_tagged is already up-to-date!\n",
      "[nltk_data]    | Downloading package maxent_ne_chunker to\n",
      "[nltk_data]    |     C:\\Users\\E-Ling\\AppData\\Roaming\\nltk_data...\n",
      "[nltk_data]    |   Package maxent_ne_chunker is already up-to-date!\n",
      "[nltk_data]    | Downloading package maxent_ne_chunker_tab to\n",
      "[nltk_data]    |     C:\\Users\\E-Ling\\AppData\\Roaming\\nltk_data...\n",
      "[nltk_data]    |   Package maxent_ne_chunker_tab is already up-to-\n",
      "[nltk_data]    |       date!\n",
      "[nltk_data]    | Downloading package maxent_treebank_pos_tagger to\n",
      "[nltk_data]    |     C:\\Users\\E-Ling\\AppData\\Roaming\\nltk_data...\n",
      "[nltk_data]    |   Package maxent_treebank_pos_tagger is already up-\n",
      "[nltk_data]    |       to-date!\n",
      "[nltk_data]    | Downloading package maxent_treebank_pos_tagger_tab to\n",
      "[nltk_data]    |     C:\\Users\\E-Ling\\AppData\\Roaming\\nltk_data...\n",
      "[nltk_data]    |   Package maxent_treebank_pos_tagger_tab is already\n",
      "[nltk_data]    |       up-to-date!\n",
      "[nltk_data]    | Downloading package moses_sample to\n",
      "[nltk_data]    |     C:\\Users\\E-Ling\\AppData\\Roaming\\nltk_data...\n",
      "[nltk_data]    |   Package moses_sample is already up-to-date!\n",
      "[nltk_data]    | Downloading package movie_reviews to\n",
      "[nltk_data]    |     C:\\Users\\E-Ling\\AppData\\Roaming\\nltk_data...\n",
      "[nltk_data]    |   Package movie_reviews is already up-to-date!\n",
      "[nltk_data]    | Downloading package mte_teip5 to\n",
      "[nltk_data]    |     C:\\Users\\E-Ling\\AppData\\Roaming\\nltk_data...\n",
      "[nltk_data]    |   Package mte_teip5 is already up-to-date!\n",
      "[nltk_data]    | Downloading package mwa_ppdb to\n",
      "[nltk_data]    |     C:\\Users\\E-Ling\\AppData\\Roaming\\nltk_data...\n",
      "[nltk_data]    |   Package mwa_ppdb is already up-to-date!\n",
      "[nltk_data]    | Downloading package names to\n",
      "[nltk_data]    |     C:\\Users\\E-Ling\\AppData\\Roaming\\nltk_data...\n",
      "[nltk_data]    |   Package names is already up-to-date!\n",
      "[nltk_data]    | Downloading package nombank.1.0 to\n",
      "[nltk_data]    |     C:\\Users\\E-Ling\\AppData\\Roaming\\nltk_data...\n",
      "[nltk_data]    |   Package nombank.1.0 is already up-to-date!\n",
      "[nltk_data]    | Downloading package nonbreaking_prefixes to\n",
      "[nltk_data]    |     C:\\Users\\E-Ling\\AppData\\Roaming\\nltk_data...\n",
      "[nltk_data]    |   Package nonbreaking_prefixes is already up-to-date!\n",
      "[nltk_data]    | Downloading package nps_chat to\n",
      "[nltk_data]    |     C:\\Users\\E-Ling\\AppData\\Roaming\\nltk_data...\n",
      "[nltk_data]    |   Package nps_chat is already up-to-date!\n",
      "[nltk_data]    | Downloading package omw to\n",
      "[nltk_data]    |     C:\\Users\\E-Ling\\AppData\\Roaming\\nltk_data...\n",
      "[nltk_data]    |   Package omw is already up-to-date!\n",
      "[nltk_data]    | Downloading package omw-1.4 to\n",
      "[nltk_data]    |     C:\\Users\\E-Ling\\AppData\\Roaming\\nltk_data...\n",
      "[nltk_data]    |   Package omw-1.4 is already up-to-date!\n",
      "[nltk_data]    | Downloading package opinion_lexicon to\n",
      "[nltk_data]    |     C:\\Users\\E-Ling\\AppData\\Roaming\\nltk_data...\n",
      "[nltk_data]    |   Package opinion_lexicon is already up-to-date!\n",
      "[nltk_data]    | Downloading package panlex_swadesh to\n",
      "[nltk_data]    |     C:\\Users\\E-Ling\\AppData\\Roaming\\nltk_data...\n",
      "[nltk_data]    |   Package panlex_swadesh is already up-to-date!\n",
      "[nltk_data]    | Downloading package paradigms to\n",
      "[nltk_data]    |     C:\\Users\\E-Ling\\AppData\\Roaming\\nltk_data...\n",
      "[nltk_data]    |   Package paradigms is already up-to-date!\n",
      "[nltk_data]    | Downloading package pe08 to\n",
      "[nltk_data]    |     C:\\Users\\E-Ling\\AppData\\Roaming\\nltk_data...\n",
      "[nltk_data]    |   Package pe08 is already up-to-date!\n",
      "[nltk_data]    | Downloading package perluniprops to\n",
      "[nltk_data]    |     C:\\Users\\E-Ling\\AppData\\Roaming\\nltk_data...\n",
      "[nltk_data]    |   Package perluniprops is already up-to-date!\n",
      "[nltk_data]    | Downloading package pil to\n",
      "[nltk_data]    |     C:\\Users\\E-Ling\\AppData\\Roaming\\nltk_data...\n",
      "[nltk_data]    |   Package pil is already up-to-date!\n",
      "[nltk_data]    | Downloading package pl196x to\n",
      "[nltk_data]    |     C:\\Users\\E-Ling\\AppData\\Roaming\\nltk_data...\n",
      "[nltk_data]    |   Package pl196x is already up-to-date!\n",
      "[nltk_data]    | Downloading package porter_test to\n",
      "[nltk_data]    |     C:\\Users\\E-Ling\\AppData\\Roaming\\nltk_data...\n",
      "[nltk_data]    |   Package porter_test is already up-to-date!\n",
      "[nltk_data]    | Downloading package ppattach to\n",
      "[nltk_data]    |     C:\\Users\\E-Ling\\AppData\\Roaming\\nltk_data...\n",
      "[nltk_data]    |   Package ppattach is already up-to-date!\n",
      "[nltk_data]    | Downloading package problem_reports to\n",
      "[nltk_data]    |     C:\\Users\\E-Ling\\AppData\\Roaming\\nltk_data...\n",
      "[nltk_data]    |   Package problem_reports is already up-to-date!\n",
      "[nltk_data]    | Downloading package product_reviews_1 to\n",
      "[nltk_data]    |     C:\\Users\\E-Ling\\AppData\\Roaming\\nltk_data...\n",
      "[nltk_data]    |   Package product_reviews_1 is already up-to-date!\n",
      "[nltk_data]    | Downloading package product_reviews_2 to\n",
      "[nltk_data]    |     C:\\Users\\E-Ling\\AppData\\Roaming\\nltk_data...\n",
      "[nltk_data]    |   Package product_reviews_2 is already up-to-date!\n",
      "[nltk_data]    | Downloading package propbank to\n",
      "[nltk_data]    |     C:\\Users\\E-Ling\\AppData\\Roaming\\nltk_data...\n",
      "[nltk_data]    |   Package propbank is already up-to-date!\n",
      "[nltk_data]    | Downloading package pros_cons to\n",
      "[nltk_data]    |     C:\\Users\\E-Ling\\AppData\\Roaming\\nltk_data...\n",
      "[nltk_data]    |   Package pros_cons is already up-to-date!\n",
      "[nltk_data]    | Downloading package ptb to\n",
      "[nltk_data]    |     C:\\Users\\E-Ling\\AppData\\Roaming\\nltk_data...\n",
      "[nltk_data]    |   Package ptb is already up-to-date!\n",
      "[nltk_data]    | Downloading package punkt to\n",
      "[nltk_data]    |     C:\\Users\\E-Ling\\AppData\\Roaming\\nltk_data...\n",
      "[nltk_data]    |   Package punkt is already up-to-date!\n",
      "[nltk_data]    | Downloading package punkt_tab to\n",
      "[nltk_data]    |     C:\\Users\\E-Ling\\AppData\\Roaming\\nltk_data...\n",
      "[nltk_data]    |   Package punkt_tab is already up-to-date!\n",
      "[nltk_data]    | Downloading package qc to\n",
      "[nltk_data]    |     C:\\Users\\E-Ling\\AppData\\Roaming\\nltk_data...\n",
      "[nltk_data]    |   Package qc is already up-to-date!\n",
      "[nltk_data]    | Downloading package reuters to\n",
      "[nltk_data]    |     C:\\Users\\E-Ling\\AppData\\Roaming\\nltk_data...\n",
      "[nltk_data]    |   Package reuters is already up-to-date!\n",
      "[nltk_data]    | Downloading package rslp to\n",
      "[nltk_data]    |     C:\\Users\\E-Ling\\AppData\\Roaming\\nltk_data...\n",
      "[nltk_data]    |   Package rslp is already up-to-date!\n",
      "[nltk_data]    | Downloading package rte to\n",
      "[nltk_data]    |     C:\\Users\\E-Ling\\AppData\\Roaming\\nltk_data...\n",
      "[nltk_data]    |   Package rte is already up-to-date!\n",
      "[nltk_data]    | Downloading package sample_grammars to\n",
      "[nltk_data]    |     C:\\Users\\E-Ling\\AppData\\Roaming\\nltk_data...\n",
      "[nltk_data]    |   Package sample_grammars is already up-to-date!\n",
      "[nltk_data]    | Downloading package semcor to\n",
      "[nltk_data]    |     C:\\Users\\E-Ling\\AppData\\Roaming\\nltk_data...\n",
      "[nltk_data]    |   Package semcor is already up-to-date!\n",
      "[nltk_data]    | Downloading package senseval to\n",
      "[nltk_data]    |     C:\\Users\\E-Ling\\AppData\\Roaming\\nltk_data...\n",
      "[nltk_data]    |   Package senseval is already up-to-date!\n",
      "[nltk_data]    | Downloading package sentence_polarity to\n",
      "[nltk_data]    |     C:\\Users\\E-Ling\\AppData\\Roaming\\nltk_data...\n",
      "[nltk_data]    |   Package sentence_polarity is already up-to-date!\n",
      "[nltk_data]    | Downloading package sentiwordnet to\n",
      "[nltk_data]    |     C:\\Users\\E-Ling\\AppData\\Roaming\\nltk_data...\n",
      "[nltk_data]    |   Package sentiwordnet is already up-to-date!\n",
      "[nltk_data]    | Downloading package shakespeare to\n",
      "[nltk_data]    |     C:\\Users\\E-Ling\\AppData\\Roaming\\nltk_data...\n",
      "[nltk_data]    |   Package shakespeare is already up-to-date!\n",
      "[nltk_data]    | Downloading package sinica_treebank to\n",
      "[nltk_data]    |     C:\\Users\\E-Ling\\AppData\\Roaming\\nltk_data...\n",
      "[nltk_data]    |   Package sinica_treebank is already up-to-date!\n",
      "[nltk_data]    | Downloading package smultron to\n",
      "[nltk_data]    |     C:\\Users\\E-Ling\\AppData\\Roaming\\nltk_data...\n",
      "[nltk_data]    |   Package smultron is already up-to-date!\n",
      "[nltk_data]    | Downloading package snowball_data to\n",
      "[nltk_data]    |     C:\\Users\\E-Ling\\AppData\\Roaming\\nltk_data...\n",
      "[nltk_data]    |   Package snowball_data is already up-to-date!\n",
      "[nltk_data]    | Downloading package spanish_grammars to\n",
      "[nltk_data]    |     C:\\Users\\E-Ling\\AppData\\Roaming\\nltk_data...\n",
      "[nltk_data]    |   Package spanish_grammars is already up-to-date!\n",
      "[nltk_data]    | Downloading package state_union to\n",
      "[nltk_data]    |     C:\\Users\\E-Ling\\AppData\\Roaming\\nltk_data...\n",
      "[nltk_data]    |   Package state_union is already up-to-date!\n",
      "[nltk_data]    | Downloading package stopwords to\n",
      "[nltk_data]    |     C:\\Users\\E-Ling\\AppData\\Roaming\\nltk_data...\n",
      "[nltk_data]    |   Package stopwords is already up-to-date!\n",
      "[nltk_data]    | Downloading package subjectivity to\n",
      "[nltk_data]    |     C:\\Users\\E-Ling\\AppData\\Roaming\\nltk_data...\n",
      "[nltk_data]    |   Package subjectivity is already up-to-date!\n",
      "[nltk_data]    | Downloading package swadesh to\n",
      "[nltk_data]    |     C:\\Users\\E-Ling\\AppData\\Roaming\\nltk_data...\n",
      "[nltk_data]    |   Package swadesh is already up-to-date!\n",
      "[nltk_data]    | Downloading package switchboard to\n",
      "[nltk_data]    |     C:\\Users\\E-Ling\\AppData\\Roaming\\nltk_data...\n",
      "[nltk_data]    |   Package switchboard is already up-to-date!\n",
      "[nltk_data]    | Downloading package tagsets to\n",
      "[nltk_data]    |     C:\\Users\\E-Ling\\AppData\\Roaming\\nltk_data...\n",
      "[nltk_data]    |   Package tagsets is already up-to-date!\n",
      "[nltk_data]    | Downloading package tagsets_json to\n",
      "[nltk_data]    |     C:\\Users\\E-Ling\\AppData\\Roaming\\nltk_data...\n",
      "[nltk_data]    |   Package tagsets_json is already up-to-date!\n",
      "[nltk_data]    | Downloading package timit to\n",
      "[nltk_data]    |     C:\\Users\\E-Ling\\AppData\\Roaming\\nltk_data...\n",
      "[nltk_data]    |   Package timit is already up-to-date!\n",
      "[nltk_data]    | Downloading package toolbox to\n",
      "[nltk_data]    |     C:\\Users\\E-Ling\\AppData\\Roaming\\nltk_data...\n",
      "[nltk_data]    |   Package toolbox is already up-to-date!\n",
      "[nltk_data]    | Downloading package treebank to\n",
      "[nltk_data]    |     C:\\Users\\E-Ling\\AppData\\Roaming\\nltk_data...\n",
      "[nltk_data]    |   Package treebank is already up-to-date!\n",
      "[nltk_data]    | Downloading package twitter_samples to\n",
      "[nltk_data]    |     C:\\Users\\E-Ling\\AppData\\Roaming\\nltk_data...\n",
      "[nltk_data]    |   Package twitter_samples is already up-to-date!\n",
      "[nltk_data]    | Downloading package udhr to\n",
      "[nltk_data]    |     C:\\Users\\E-Ling\\AppData\\Roaming\\nltk_data...\n",
      "[nltk_data]    |   Package udhr is already up-to-date!\n",
      "[nltk_data]    | Downloading package udhr2 to\n",
      "[nltk_data]    |     C:\\Users\\E-Ling\\AppData\\Roaming\\nltk_data...\n",
      "[nltk_data]    |   Package udhr2 is already up-to-date!\n",
      "[nltk_data]    | Downloading package unicode_samples to\n",
      "[nltk_data]    |     C:\\Users\\E-Ling\\AppData\\Roaming\\nltk_data...\n",
      "[nltk_data]    |   Package unicode_samples is already up-to-date!\n",
      "[nltk_data]    | Downloading package universal_tagset to\n",
      "[nltk_data]    |     C:\\Users\\E-Ling\\AppData\\Roaming\\nltk_data...\n",
      "[nltk_data]    |   Package universal_tagset is already up-to-date!\n",
      "[nltk_data]    | Downloading package universal_treebanks_v20 to\n",
      "[nltk_data]    |     C:\\Users\\E-Ling\\AppData\\Roaming\\nltk_data...\n",
      "[nltk_data]    |   Package universal_treebanks_v20 is already up-to-\n",
      "[nltk_data]    |       date!\n",
      "[nltk_data]    | Downloading package vader_lexicon to\n",
      "[nltk_data]    |     C:\\Users\\E-Ling\\AppData\\Roaming\\nltk_data...\n",
      "[nltk_data]    |   Package vader_lexicon is already up-to-date!\n",
      "[nltk_data]    | Downloading package verbnet to\n",
      "[nltk_data]    |     C:\\Users\\E-Ling\\AppData\\Roaming\\nltk_data...\n",
      "[nltk_data]    |   Package verbnet is already up-to-date!\n",
      "[nltk_data]    | Downloading package verbnet3 to\n",
      "[nltk_data]    |     C:\\Users\\E-Ling\\AppData\\Roaming\\nltk_data...\n",
      "[nltk_data]    |   Package verbnet3 is already up-to-date!\n",
      "[nltk_data]    | Downloading package webtext to\n",
      "[nltk_data]    |     C:\\Users\\E-Ling\\AppData\\Roaming\\nltk_data...\n",
      "[nltk_data]    |   Package webtext is already up-to-date!\n",
      "[nltk_data]    | Downloading package wmt15_eval to\n",
      "[nltk_data]    |     C:\\Users\\E-Ling\\AppData\\Roaming\\nltk_data...\n",
      "[nltk_data]    |   Package wmt15_eval is already up-to-date!\n",
      "[nltk_data]    | Downloading package word2vec_sample to\n",
      "[nltk_data]    |     C:\\Users\\E-Ling\\AppData\\Roaming\\nltk_data...\n",
      "[nltk_data]    |   Package word2vec_sample is already up-to-date!\n",
      "[nltk_data]    | Downloading package wordnet to\n",
      "[nltk_data]    |     C:\\Users\\E-Ling\\AppData\\Roaming\\nltk_data...\n",
      "[nltk_data]    |   Package wordnet is already up-to-date!\n",
      "[nltk_data]    | Downloading package wordnet2021 to\n",
      "[nltk_data]    |     C:\\Users\\E-Ling\\AppData\\Roaming\\nltk_data...\n",
      "[nltk_data]    |   Package wordnet2021 is already up-to-date!\n",
      "[nltk_data]    | Downloading package wordnet2022 to\n",
      "[nltk_data]    |     C:\\Users\\E-Ling\\AppData\\Roaming\\nltk_data...\n",
      "[nltk_data]    |   Package wordnet2022 is already up-to-date!\n",
      "[nltk_data]    | Downloading package wordnet31 to\n",
      "[nltk_data]    |     C:\\Users\\E-Ling\\AppData\\Roaming\\nltk_data...\n",
      "[nltk_data]    |   Package wordnet31 is already up-to-date!\n",
      "[nltk_data]    | Downloading package wordnet_ic to\n",
      "[nltk_data]    |     C:\\Users\\E-Ling\\AppData\\Roaming\\nltk_data...\n",
      "[nltk_data]    |   Package wordnet_ic is already up-to-date!\n",
      "[nltk_data]    | Downloading package words to\n",
      "[nltk_data]    |     C:\\Users\\E-Ling\\AppData\\Roaming\\nltk_data...\n",
      "[nltk_data]    |   Package words is already up-to-date!\n",
      "[nltk_data]    | Downloading package ycoe to\n",
      "[nltk_data]    |     C:\\Users\\E-Ling\\AppData\\Roaming\\nltk_data...\n",
      "[nltk_data]    |   Package ycoe is already up-to-date!\n",
      "[nltk_data]    | \n",
      "[nltk_data]  Done downloading collection all\n",
      "[nltk_data] Downloading package vader_lexicon to\n",
      "[nltk_data]     C:\\Users\\E-Ling\\AppData\\Roaming\\nltk_data...\n",
      "[nltk_data]   Package vader_lexicon is already up-to-date!\n",
      "[nltk_data] Downloading package stopwords to\n",
      "[nltk_data]     C:\\Users\\E-Ling\\AppData\\Roaming\\nltk_data...\n",
      "[nltk_data]   Package stopwords is already up-to-date!\n",
      "[nltk_data] Downloading package wordnet to\n",
      "[nltk_data]     C:\\Users\\E-Ling\\AppData\\Roaming\\nltk_data...\n",
      "[nltk_data]   Package wordnet is already up-to-date!\n"
     ]
    }
   ],
   "source": [
    "# For dataframes\n",
    "import pandas as pd\n",
    "import seaborn as sns\n",
    "import matplotlib.pyplot as plt\n",
    "%matplotlib inline\n",
    "\n",
    "\n",
    "# Importing all nltk related libraries\n",
    "import nltk\n",
    "from nltk.sentiment.vader import SentimentIntensityAnalyzer\n",
    "nltk.download('all')\n",
    "nltk.download('vader_lexicon')\n",
    "nltk.download('stopwords')\n",
    "nltk.download('wordnet')\n",
    "from nltk.corpus import stopwords\n",
    "from nltk.stem import WordNetLemmatizer\n",
    "from sklearn.linear_model import LogisticRegression\n",
    "\n",
    "# Subjectivity and Polarity\n",
    "from textblob import TextBlob\n",
    "\n",
    "# Regular Expressions\n",
    "import re\n",
    "import string\n",
    "\n",
    "# Bag of Words representation\n",
    "import collections\n",
    "from sklearn.feature_extraction.text import CountVectorizer\n",
    "\n",
    "# Wordcloud\n",
    "from wordcloud import WordCloud, STOPWORDS, ImageColorGenerator\n",
    "\n",
    "# To ignore warning\n",
    "import warnings\n",
    "warnings.filterwarnings(\"ignore\")\n",
    "\n",
    "# Emotion\n",
    "# !pip install nrclex\n",
    "from nrclex import NRCLex\n",
    "\n",
    "# Mime type rendering\n",
    "# !pip install nbformat\n",
    "import nbformat"
   ]
  },
  {
   "cell_type": "code",
   "execution_count": 18,
   "metadata": {
    "id": "DYPObzni3CD8"
   },
   "outputs": [],
   "source": [
    "# Set Pandas truncation of long strings (set column width)\n",
    "pd.set_option('display.max_colwidth', 1000)"
   ]
  },
  {
   "cell_type": "markdown",
   "metadata": {
    "id": "WCIYER0ZU24u"
   },
   "source": [
    "### Import Data"
   ]
  },
  {
   "cell_type": "code",
   "execution_count": 19,
   "metadata": {
    "id": "-sdAS6h6UwTG"
   },
   "outputs": [],
   "source": [
    "data_sentiment = pd.read_csv('datasets/ukrainerussian_tweets.csv')"
   ]
  },
  {
   "cell_type": "code",
   "execution_count": 20,
   "metadata": {
    "colab": {
     "base_uri": "https://localhost:8080/",
     "height": 551
    },
    "executionInfo": {
     "elapsed": 10,
     "status": "ok",
     "timestamp": 1700560685213,
     "user": {
      "displayName": "Jaryl L",
      "userId": "00435829646488835810"
     },
     "user_tz": -480
    },
    "id": "nWvl5OaYhQqN",
    "outputId": "621a8e06-8b18-4ff8-d021-c83870568343"
   },
   "outputs": [
    {
     "data": {
      "text/html": [
       "<div>\n",
       "<style scoped>\n",
       "    .dataframe tbody tr th:only-of-type {\n",
       "        vertical-align: middle;\n",
       "    }\n",
       "\n",
       "    .dataframe tbody tr th {\n",
       "        vertical-align: top;\n",
       "    }\n",
       "\n",
       "    .dataframe thead th {\n",
       "        text-align: right;\n",
       "    }\n",
       "</style>\n",
       "<table border=\"1\" class=\"dataframe\">\n",
       "  <thead>\n",
       "    <tr style=\"text-align: right;\">\n",
       "      <th></th>\n",
       "      <th>id</th>\n",
       "      <th>conversation_id</th>\n",
       "      <th>created_at</th>\n",
       "      <th>date</th>\n",
       "      <th>time</th>\n",
       "      <th>timezone</th>\n",
       "      <th>user_id</th>\n",
       "      <th>username</th>\n",
       "      <th>name</th>\n",
       "      <th>place</th>\n",
       "      <th>...</th>\n",
       "      <th>geo</th>\n",
       "      <th>source</th>\n",
       "      <th>user_rt_id</th>\n",
       "      <th>user_rt</th>\n",
       "      <th>retweet_id</th>\n",
       "      <th>reply_to</th>\n",
       "      <th>retweet_date</th>\n",
       "      <th>translate</th>\n",
       "      <th>trans_src</th>\n",
       "      <th>trans_dest</th>\n",
       "    </tr>\n",
       "  </thead>\n",
       "  <tbody>\n",
       "    <tr>\n",
       "      <th>0</th>\n",
       "      <td>1590510105598259201</td>\n",
       "      <td>1590510105598259201</td>\n",
       "      <td>2022-11-10 01:02:14 UTC</td>\n",
       "      <td>2022-11-10</td>\n",
       "      <td>01:02:14</td>\n",
       "      <td>0</td>\n",
       "      <td>1162601483856039936</td>\n",
       "      <td>sumanth09315243</td>\n",
       "      <td>WAGMIFestival.eth</td>\n",
       "      <td>NaN</td>\n",
       "      <td>...</td>\n",
       "      <td>NaN</td>\n",
       "      <td>NaN</td>\n",
       "      <td>NaN</td>\n",
       "      <td>NaN</td>\n",
       "      <td>NaN</td>\n",
       "      <td>[]</td>\n",
       "      <td>NaN</td>\n",
       "      <td>NaN</td>\n",
       "      <td>NaN</td>\n",
       "      <td>NaN</td>\n",
       "    </tr>\n",
       "    <tr>\n",
       "      <th>1</th>\n",
       "      <td>1590510093610909698</td>\n",
       "      <td>1589760170938470400</td>\n",
       "      <td>2022-11-10 01:02:11 UTC</td>\n",
       "      <td>2022-11-10</td>\n",
       "      <td>01:02:11</td>\n",
       "      <td>0</td>\n",
       "      <td>1085482994176012288</td>\n",
       "      <td>liberalismisco1</td>\n",
       "      <td>Liberalism is Cool</td>\n",
       "      <td>NaN</td>\n",
       "      <td>...</td>\n",
       "      <td>NaN</td>\n",
       "      <td>NaN</td>\n",
       "      <td>NaN</td>\n",
       "      <td>NaN</td>\n",
       "      <td>NaN</td>\n",
       "      <td>[{'screen_name': 'bjovan3', 'name': '🇷🇸 مها', 'id': '710383228805320704'}, {'screen_name': 'KimDotcom', 'name': 'Kim Dotcom', 'id': '611986351'}]</td>\n",
       "      <td>NaN</td>\n",
       "      <td>NaN</td>\n",
       "      <td>NaN</td>\n",
       "      <td>NaN</td>\n",
       "    </tr>\n",
       "    <tr>\n",
       "      <th>2</th>\n",
       "      <td>1590510091157274624</td>\n",
       "      <td>1590035806433210368</td>\n",
       "      <td>2022-11-10 01:02:10 UTC</td>\n",
       "      <td>2022-11-10</td>\n",
       "      <td>01:02:10</td>\n",
       "      <td>0</td>\n",
       "      <td>19697793</td>\n",
       "      <td>crypto_knight_3</td>\n",
       "      <td>Big Phil 🍥</td>\n",
       "      <td>NaN</td>\n",
       "      <td>...</td>\n",
       "      <td>NaN</td>\n",
       "      <td>NaN</td>\n",
       "      <td>NaN</td>\n",
       "      <td>NaN</td>\n",
       "      <td>NaN</td>\n",
       "      <td>[{'screen_name': 'Trollstoy88', 'name': 'Trollstoy', 'id': '1487069808818544646'}]</td>\n",
       "      <td>NaN</td>\n",
       "      <td>NaN</td>\n",
       "      <td>NaN</td>\n",
       "      <td>NaN</td>\n",
       "    </tr>\n",
       "    <tr>\n",
       "      <th>3</th>\n",
       "      <td>1590510084802883584</td>\n",
       "      <td>1590510084802883584</td>\n",
       "      <td>2022-11-10 01:02:09 UTC</td>\n",
       "      <td>2022-11-10</td>\n",
       "      <td>01:02:09</td>\n",
       "      <td>0</td>\n",
       "      <td>3627349575</td>\n",
       "      <td>engineer_psych</td>\n",
       "      <td>Dark6Light</td>\n",
       "      <td>NaN</td>\n",
       "      <td>...</td>\n",
       "      <td>NaN</td>\n",
       "      <td>NaN</td>\n",
       "      <td>NaN</td>\n",
       "      <td>NaN</td>\n",
       "      <td>NaN</td>\n",
       "      <td>[]</td>\n",
       "      <td>NaN</td>\n",
       "      <td>NaN</td>\n",
       "      <td>NaN</td>\n",
       "      <td>NaN</td>\n",
       "    </tr>\n",
       "    <tr>\n",
       "      <th>4</th>\n",
       "      <td>1590510082969989120</td>\n",
       "      <td>1590508019862843392</td>\n",
       "      <td>2022-11-10 01:02:08 UTC</td>\n",
       "      <td>2022-11-10</td>\n",
       "      <td>01:02:08</td>\n",
       "      <td>0</td>\n",
       "      <td>1541625790634270720</td>\n",
       "      <td>deonrichar1</td>\n",
       "      <td>The In Your Face Show W/Dion DB😅🤗🇺🇸⚖️🕙🙏✨</td>\n",
       "      <td>NaN</td>\n",
       "      <td>...</td>\n",
       "      <td>NaN</td>\n",
       "      <td>NaN</td>\n",
       "      <td>NaN</td>\n",
       "      <td>NaN</td>\n",
       "      <td>NaN</td>\n",
       "      <td>[{'screen_name': 'hrkbenowen', 'name': 'Ben Owen 🇺🇸', 'id': '542962969'}]</td>\n",
       "      <td>NaN</td>\n",
       "      <td>NaN</td>\n",
       "      <td>NaN</td>\n",
       "      <td>NaN</td>\n",
       "    </tr>\n",
       "  </tbody>\n",
       "</table>\n",
       "<p>5 rows × 36 columns</p>\n",
       "</div>"
      ],
      "text/plain": [
       "                    id      conversation_id               created_at  \\\n",
       "0  1590510105598259201  1590510105598259201  2022-11-10 01:02:14 UTC   \n",
       "1  1590510093610909698  1589760170938470400  2022-11-10 01:02:11 UTC   \n",
       "2  1590510091157274624  1590035806433210368  2022-11-10 01:02:10 UTC   \n",
       "3  1590510084802883584  1590510084802883584  2022-11-10 01:02:09 UTC   \n",
       "4  1590510082969989120  1590508019862843392  2022-11-10 01:02:08 UTC   \n",
       "\n",
       "         date      time  timezone              user_id         username  \\\n",
       "0  2022-11-10  01:02:14         0  1162601483856039936  sumanth09315243   \n",
       "1  2022-11-10  01:02:11         0  1085482994176012288  liberalismisco1   \n",
       "2  2022-11-10  01:02:10         0             19697793  crypto_knight_3   \n",
       "3  2022-11-10  01:02:09         0           3627349575   engineer_psych   \n",
       "4  2022-11-10  01:02:08         0  1541625790634270720      deonrichar1   \n",
       "\n",
       "                                       name place  ... geo source user_rt_id  \\\n",
       "0                         WAGMIFestival.eth   NaN  ... NaN    NaN        NaN   \n",
       "1                        Liberalism is Cool   NaN  ... NaN    NaN        NaN   \n",
       "2                                Big Phil 🍥   NaN  ... NaN    NaN        NaN   \n",
       "3                                Dark6Light   NaN  ... NaN    NaN        NaN   \n",
       "4  The In Your Face Show W/Dion DB😅🤗🇺🇸⚖️🕙🙏✨   NaN  ... NaN    NaN        NaN   \n",
       "\n",
       "  user_rt retweet_id  \\\n",
       "0     NaN        NaN   \n",
       "1     NaN        NaN   \n",
       "2     NaN        NaN   \n",
       "3     NaN        NaN   \n",
       "4     NaN        NaN   \n",
       "\n",
       "                                                                                                                                            reply_to  \\\n",
       "0                                                                                                                                                 []   \n",
       "1  [{'screen_name': 'bjovan3', 'name': '🇷🇸 مها', 'id': '710383228805320704'}, {'screen_name': 'KimDotcom', 'name': 'Kim Dotcom', 'id': '611986351'}]   \n",
       "2                                                                 [{'screen_name': 'Trollstoy88', 'name': 'Trollstoy', 'id': '1487069808818544646'}]   \n",
       "3                                                                                                                                                 []   \n",
       "4                                                                          [{'screen_name': 'hrkbenowen', 'name': 'Ben Owen 🇺🇸', 'id': '542962969'}]   \n",
       "\n",
       "   retweet_date  translate trans_src trans_dest  \n",
       "0           NaN        NaN       NaN        NaN  \n",
       "1           NaN        NaN       NaN        NaN  \n",
       "2           NaN        NaN       NaN        NaN  \n",
       "3           NaN        NaN       NaN        NaN  \n",
       "4           NaN        NaN       NaN        NaN  \n",
       "\n",
       "[5 rows x 36 columns]"
      ]
     },
     "execution_count": 20,
     "metadata": {},
     "output_type": "execute_result"
    }
   ],
   "source": [
    "data_sentiment.head()"
   ]
  },
  {
   "cell_type": "markdown",
   "metadata": {
    "id": "8b7zRf5FhacK"
   },
   "source": [
    "### Explanation on what we are looking out for:\n",
    "* What are we trying to tackle?\n",
    "  *  Indulge in such a topic where we analyse the emotions of the general public as tensions\n",
    "continued to arise between Russian and Ukraine supporters. Therefore, we are doing sentiment analysis on\n",
    "the Ukraine-Russia War on Twitter.\n",
    "* Objectives:\n",
    "  * Identify the mental state of the general public based on the comments extracted from the tweets on Twitter\n",
    "  * Understand how this conflict has affected the general public using sentiment analysis\n",
    "  * Data Source: https://www.kaggle.com/datasets/towhidultonmoy/russia-vs-ukraine-tweets-datasetdaily-updated\n",
    "\n",
    "![image.png](data:image/png;base64,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)\n"
   ]
  },
  {
   "cell_type": "markdown",
   "metadata": {
    "id": "vJFj4SsOjmeQ"
   },
   "source": [
    "### Inspect the data & Explore Data"
   ]
  },
  {
   "cell_type": "code",
   "execution_count": 21,
   "metadata": {
    "colab": {
     "base_uri": "https://localhost:8080/"
    },
    "executionInfo": {
     "elapsed": 7,
     "status": "ok",
     "timestamp": 1700560685213,
     "user": {
      "displayName": "Jaryl L",
      "userId": "00435829646488835810"
     },
     "user_tz": -480
    },
    "id": "Wc8WvOHUhTZv",
    "outputId": "4b4e5926-d195-4164-af5d-acb569249688"
   },
   "outputs": [
    {
     "data": {
      "text/plain": [
       "Index(['id', 'conversation_id', 'created_at', 'date', 'time', 'timezone',\n",
       "       'user_id', 'username', 'name', 'place', 'tweet', 'language', 'mentions',\n",
       "       'urls', 'photos', 'replies_count', 'retweets_count', 'likes_count',\n",
       "       'hashtags', 'cashtags', 'link', 'retweet', 'quote_url', 'video',\n",
       "       'thumbnail', 'near', 'geo', 'source', 'user_rt_id', 'user_rt',\n",
       "       'retweet_id', 'reply_to', 'retweet_date', 'translate', 'trans_src',\n",
       "       'trans_dest'],\n",
       "      dtype='object')"
      ]
     },
     "execution_count": 21,
     "metadata": {},
     "output_type": "execute_result"
    }
   ],
   "source": [
    "# Retrieve all the columns within the dataframe\n",
    "data_sentiment.columns"
   ]
  },
  {
   "cell_type": "code",
   "execution_count": 22,
   "metadata": {
    "colab": {
     "base_uri": "https://localhost:8080/"
    },
    "executionInfo": {
     "elapsed": 6,
     "status": "ok",
     "timestamp": 1700560685213,
     "user": {
      "displayName": "Jaryl L",
      "userId": "00435829646488835810"
     },
     "user_tz": -480
    },
    "id": "akbR9vM4j76q",
    "outputId": "09070129-c881-4351-c52c-4edf7d92870b"
   },
   "outputs": [
    {
     "data": {
      "text/plain": [
       "id                   int64\n",
       "conversation_id      int64\n",
       "created_at          object\n",
       "date                object\n",
       "time                object\n",
       "timezone             int64\n",
       "user_id              int64\n",
       "username            object\n",
       "name                object\n",
       "place               object\n",
       "tweet               object\n",
       "language            object\n",
       "mentions            object\n",
       "urls                object\n",
       "photos              object\n",
       "replies_count        int64\n",
       "retweets_count       int64\n",
       "likes_count          int64\n",
       "hashtags            object\n",
       "cashtags            object\n",
       "link                object\n",
       "retweet               bool\n",
       "quote_url           object\n",
       "video                int64\n",
       "thumbnail           object\n",
       "near               float64\n",
       "geo                float64\n",
       "source             float64\n",
       "user_rt_id         float64\n",
       "user_rt            float64\n",
       "retweet_id         float64\n",
       "reply_to            object\n",
       "retweet_date       float64\n",
       "translate          float64\n",
       "trans_src          float64\n",
       "trans_dest         float64\n",
       "dtype: object"
      ]
     },
     "execution_count": 22,
     "metadata": {},
     "output_type": "execute_result"
    }
   ],
   "source": [
    "# View the trpes of data collected in each column of the data frame\n",
    "data_sentiment.dtypes"
   ]
  },
  {
   "cell_type": "code",
   "execution_count": 23,
   "metadata": {
    "colab": {
     "base_uri": "https://localhost:8080/"
    },
    "executionInfo": {
     "elapsed": 545,
     "status": "ok",
     "timestamp": 1700560685754,
     "user": {
      "displayName": "Jaryl L",
      "userId": "00435829646488835810"
     },
     "user_tz": -480
    },
    "id": "E_27gUBkkJCY",
    "outputId": "59a85976-73f9-4ca4-8570-7850c09bdbcf"
   },
   "outputs": [
    {
     "data": {
      "text/plain": [
       "0                                                                                                                @jensstoltenberg Nato/otan is the most terrorist organization in the world , there members are only white. The unipolar way is over now is multi     and russia and china are the new order\n",
       "1                                                                                                                     @bjovan3 @KimDotcom You’re talking as if it was Ukraine that invaded Russia and was trying to seize the capital. Are you sure you’re not confusing the two countries with one another?\n",
       "2                                                                                                                                                                                                                                       @Trollstoy88 Bet russia wishes it hadnt wasted them all in syria now\n",
       "3                                                                                                              On the last meeting Lukashenko and Putin talking about respect thst west should respect us then we can negotiate (here we have Stoltenberg show respect to Russia:)   https://t.co/e0ptJTwh6g\n",
       "4                                                                                                                                                                                        @hrkbenowen Why wouldn't he be? Russia (not that I'm a #putinpuppet) ain't playin' out here! Steamroll Season#7...😉\n",
       "                                                                                                                                                        ...                                                                                                                                                 \n",
       "10004                                                                                                                                                                                                                 Ukraine has won the war. Russia is leaving Ukraine after heavy losses and humiliation.\n",
       "10005                                                                                                                    Biden says it remains to be seen if the Kherson withdrawal will lead to some \"recalibration of positions\" over the winter and if Ukraine will be willing to compromise with Russia.\n",
       "10006                                                                                                                                                                               Talks with Russia? No way, say Ukrainians | Russia-Ukraine war News | Al Jazeera  https://t.co/L6Eh1ps5SF via @AJEnglish\n",
       "10007                                                                                                                                                                                @DylanBurns1776 Supporting kurds to sow division in Iran and Syria and Iraq is ok since it's not Russia that's doing it\n",
       "10008    @Breaking911 I voted for him last time, can’t say I’m up for 4 more years of Dems hollering Russia, and billions on stupid impeachments. And trashing your own people that supported you, not appealing at all. I can get the same policies, without the mouth from DeSantis. I’ll go with desantis\n",
       "Name: tweet, Length: 10009, dtype: object"
      ]
     },
     "execution_count": 23,
     "metadata": {},
     "output_type": "execute_result"
    }
   ],
   "source": [
    "# The main set of data we will be preprocessing for detecting emotions -> Tweet column\n",
    "data_sentiment['tweet']"
   ]
  },
  {
   "cell_type": "code",
   "execution_count": 24,
   "metadata": {
    "id": "2Sm-r5FmkWRP"
   },
   "outputs": [],
   "source": [
    "# Extracting columns required to perform sentiment analysis\n",
    "df_tweets1=pd.DataFrame({'tweet':pd.Series(data_sentiment['tweet']),'language':pd.Series(data_sentiment['language'])})"
   ]
  },
  {
   "cell_type": "code",
   "execution_count": 25,
   "metadata": {
    "id": "ragUP1PP80jg"
   },
   "outputs": [],
   "source": [
    "df_tweets=data_sentiment[['tweet','language']]\n",
    "#shorter way of doing above"
   ]
  },
  {
   "cell_type": "code",
   "execution_count": 26,
   "metadata": {
    "colab": {
     "base_uri": "https://localhost:8080/"
    },
    "executionInfo": {
     "elapsed": 15,
     "status": "ok",
     "timestamp": 1700560685756,
     "user": {
      "displayName": "Jaryl L",
      "userId": "00435829646488835810"
     },
     "user_tz": -480
    },
    "id": "mbRI90y9ZPYA",
    "outputId": "16a95dcf-301b-4a88-af23-0afd5e661786"
   },
   "outputs": [
    {
     "data": {
      "text/plain": [
       "True"
      ]
     },
     "execution_count": 26,
     "metadata": {},
     "output_type": "execute_result"
    }
   ],
   "source": [
    "df_tweets.equals(df_tweets1)"
   ]
  },
  {
   "cell_type": "markdown",
   "metadata": {
    "id": "9TQ5vC2GmIsD"
   },
   "source": [
    "### EDA"
   ]
  },
  {
   "cell_type": "code",
   "execution_count": 27,
   "metadata": {
    "id": "1gOXqCH8v57W"
   },
   "outputs": [],
   "source": [
    "df_tweets['length']=df_tweets['tweet'].apply(len)\n",
    "#measuring the length of thing"
   ]
  },
  {
   "cell_type": "code",
   "execution_count": 28,
   "metadata": {
    "colab": {
     "base_uri": "https://localhost:8080/",
     "height": 345
    },
    "executionInfo": {
     "elapsed": 12,
     "status": "ok",
     "timestamp": 1700560685756,
     "user": {
      "displayName": "Jaryl L",
      "userId": "00435829646488835810"
     },
     "user_tz": -480
    },
    "id": "6rvQ7HoxtIB8",
    "outputId": "1854b8d1-ae28-4dc9-bbef-2a981485eca0"
   },
   "outputs": [
    {
     "data": {
      "text/html": [
       "<div>\n",
       "<style scoped>\n",
       "    .dataframe tbody tr th:only-of-type {\n",
       "        vertical-align: middle;\n",
       "    }\n",
       "\n",
       "    .dataframe tbody tr th {\n",
       "        vertical-align: top;\n",
       "    }\n",
       "\n",
       "    .dataframe thead th {\n",
       "        text-align: right;\n",
       "    }\n",
       "</style>\n",
       "<table border=\"1\" class=\"dataframe\">\n",
       "  <thead>\n",
       "    <tr style=\"text-align: right;\">\n",
       "      <th></th>\n",
       "      <th>tweet</th>\n",
       "      <th>language</th>\n",
       "      <th>length</th>\n",
       "    </tr>\n",
       "  </thead>\n",
       "  <tbody>\n",
       "    <tr>\n",
       "      <th>0</th>\n",
       "      <td>@jensstoltenberg Nato/otan is the most terrorist organization in the world , there members are only white. The unipolar way is over now is multi     and russia and china are the new order</td>\n",
       "      <td>en</td>\n",
       "      <td>187</td>\n",
       "    </tr>\n",
       "    <tr>\n",
       "      <th>1</th>\n",
       "      <td>@bjovan3 @KimDotcom You’re talking as if it was Ukraine that invaded Russia and was trying to seize the capital. Are you sure you’re not confusing the two countries with one another?</td>\n",
       "      <td>en</td>\n",
       "      <td>182</td>\n",
       "    </tr>\n",
       "    <tr>\n",
       "      <th>2</th>\n",
       "      <td>@Trollstoy88 Bet russia wishes it hadnt wasted them all in syria now</td>\n",
       "      <td>en</td>\n",
       "      <td>68</td>\n",
       "    </tr>\n",
       "    <tr>\n",
       "      <th>3</th>\n",
       "      <td>On the last meeting Lukashenko and Putin talking about respect thst west should respect us then we can negotiate (here we have Stoltenberg show respect to Russia:)   https://t.co/e0ptJTwh6g</td>\n",
       "      <td>en</td>\n",
       "      <td>189</td>\n",
       "    </tr>\n",
       "    <tr>\n",
       "      <th>4</th>\n",
       "      <td>@hrkbenowen Why wouldn't he be? Russia (not that I'm a #putinpuppet) ain't playin' out here! Steamroll Season#7...😉</td>\n",
       "      <td>en</td>\n",
       "      <td>115</td>\n",
       "    </tr>\n",
       "  </tbody>\n",
       "</table>\n",
       "</div>"
      ],
      "text/plain": [
       "                                                                                                                                                                                           tweet  \\\n",
       "0    @jensstoltenberg Nato/otan is the most terrorist organization in the world , there members are only white. The unipolar way is over now is multi     and russia and china are the new order   \n",
       "1         @bjovan3 @KimDotcom You’re talking as if it was Ukraine that invaded Russia and was trying to seize the capital. Are you sure you’re not confusing the two countries with one another?   \n",
       "2                                                                                                                           @Trollstoy88 Bet russia wishes it hadnt wasted them all in syria now   \n",
       "3  On the last meeting Lukashenko and Putin talking about respect thst west should respect us then we can negotiate (here we have Stoltenberg show respect to Russia:)   https://t.co/e0ptJTwh6g   \n",
       "4                                                                            @hrkbenowen Why wouldn't he be? Russia (not that I'm a #putinpuppet) ain't playin' out here! Steamroll Season#7...😉   \n",
       "\n",
       "  language  length  \n",
       "0       en     187  \n",
       "1       en     182  \n",
       "2       en      68  \n",
       "3       en     189  \n",
       "4       en     115  "
      ]
     },
     "execution_count": 28,
     "metadata": {},
     "output_type": "execute_result"
    }
   ],
   "source": [
    "df_tweets.head()"
   ]
  },
  {
   "cell_type": "markdown",
   "metadata": {
    "id": "x1GvFNmQmmIi"
   },
   "source": [
    "### Plot a bar graph to show the distribution of the top 5 languages reflected in the twitter dataset"
   ]
  },
  {
   "cell_type": "code",
   "execution_count": 29,
   "metadata": {
    "colab": {
     "base_uri": "https://localhost:8080/"
    },
    "executionInfo": {
     "elapsed": 11,
     "status": "ok",
     "timestamp": 1700560685756,
     "user": {
      "displayName": "Jaryl L",
      "userId": "00435829646488835810"
     },
     "user_tz": -480
    },
    "id": "VYLwgLdtl9io",
    "outputId": "750cb826-1b3d-414e-a3c3-ae1ffdcd10bf"
   },
   "outputs": [
    {
     "name": "stdout",
     "output_type": "stream",
     "text": [
      "['en' 'qme' 'pt' 'nl' 'it' 'ca' 'in' 'und' 'ta' 'ja' 'fr' 'zh' 'vi' 'ro'\n",
      " 'th' 'de' 'ht' 'es' 'qht' 'ur' 'ru' 'fi' 'ar' 'cs' 'pl' 'hi' 'tl' 'tr'\n",
      " 'no' 'et' 'uk' 'el' 'da' 'qam' 'iw' 'sv' 'lt' 'bg']\n"
     ]
    }
   ],
   "source": [
    "# Printing out unique row data in the langauge column\n",
    "print(df_tweets['language'].unique())"
   ]
  },
  {
   "cell_type": "code",
   "execution_count": 30,
   "metadata": {
    "colab": {
     "base_uri": "https://localhost:8080/"
    },
    "executionInfo": {
     "elapsed": 10,
     "status": "ok",
     "timestamp": 1700560685756,
     "user": {
      "displayName": "Jaryl L",
      "userId": "00435829646488835810"
     },
     "user_tz": -480
    },
    "id": "x9yFqMQRmjx0",
    "outputId": "06d2ca5f-82fb-487a-b60f-906f236f5d8c"
   },
   "outputs": [
    {
     "data": {
      "text/plain": [
       "language\n",
       "en     8793\n",
       "pt      343\n",
       "it      232\n",
       "qme     138\n",
       "und      80\n",
       "in       54\n",
       "th       53\n",
       "es       38\n",
       "vi       37\n",
       "ru       36\n",
       "ca       34\n",
       "de       27\n",
       "ja       26\n",
       "fr       25\n",
       "nl       13\n",
       "ar       11\n",
       "qht       9\n",
       "fi        8\n",
       "pl        6\n",
       "zh        5\n",
       "ro        5\n",
       "cs        4\n",
       "tl        4\n",
       "et        4\n",
       "uk        4\n",
       "hi        4\n",
       "no        2\n",
       "qam       2\n",
       "ht        2\n",
       "tr        2\n",
       "ur        1\n",
       "ta        1\n",
       "el        1\n",
       "da        1\n",
       "iw        1\n",
       "sv        1\n",
       "lt        1\n",
       "bg        1\n",
       "Name: count, dtype: int64"
      ]
     },
     "execution_count": 30,
     "metadata": {},
     "output_type": "execute_result"
    }
   ],
   "source": [
    "# Counting the number of each language type using value_counts() function\n",
    "df_tweets['language'].value_counts()"
   ]
  },
  {
   "cell_type": "code",
   "execution_count": null,
   "metadata": {
    "colab": {
     "base_uri": "https://localhost:8080/",
     "height": 465
    },
    "executionInfo": {
     "elapsed": 8,
     "status": "ok",
     "timestamp": 1700560685756,
     "user": {
      "displayName": "Jaryl L",
      "userId": "00435829646488835810"
     },
     "user_tz": -480
    },
    "id": "3BbX6VEDuHxg",
    "outputId": "b54f36b1-dca0-485f-b02c-3d6440ef7142"
   },
   "outputs": [],
   "source": []
  },
  {
   "cell_type": "code",
   "execution_count": 31,
   "metadata": {
    "id": "eziIWSbSbwn8"
   },
   "outputs": [],
   "source": [
    "# Choosing top 5 language\n"
   ]
  },
  {
   "cell_type": "code",
   "execution_count": null,
   "metadata": {
    "colab": {
     "base_uri": "https://localhost:8080/",
     "height": 469
    },
    "executionInfo": {
     "elapsed": 6,
     "status": "ok",
     "timestamp": 1700560686256,
     "user": {
      "displayName": "Jaryl L",
      "userId": "00435829646488835810"
     },
     "user_tz": -480
    },
    "id": "ALw8ZNyLcrGY",
    "outputId": "95fffed5-b7ec-4b29-9613-be7f28952bbd"
   },
   "outputs": [],
   "source": [
    "\n",
    "\n"
   ]
  },
  {
   "cell_type": "code",
   "execution_count": 32,
   "metadata": {
    "colab": {
     "base_uri": "https://localhost:8080/",
     "height": 452
    },
    "executionInfo": {
     "elapsed": 735,
     "status": "ok",
     "timestamp": 1700560686987,
     "user": {
      "displayName": "Jaryl L",
      "userId": "00435829646488835810"
     },
     "user_tz": -480
    },
    "id": "rtJvuzZVnIgM",
    "outputId": "6c9d15d3-6717-43c6-a9f0-9c6871b74bcd"
   },
   "outputs": [
    {
     "ename": "NameError",
     "evalue": "name 'top5_lang' is not defined",
     "output_type": "error",
     "traceback": [
      "\u001b[1;31m---------------------------------------------------------------------------\u001b[0m",
      "\u001b[1;31mNameError\u001b[0m                                 Traceback (most recent call last)",
      "Cell \u001b[1;32mIn[32], line 5\u001b[0m\n\u001b[0;32m      3\u001b[0m sns\u001b[38;5;241m.\u001b[39mset_theme(style\u001b[38;5;241m=\u001b[39m\u001b[38;5;124m'\u001b[39m\u001b[38;5;124mdarkgrid\u001b[39m\u001b[38;5;124m'\u001b[39m)\n\u001b[0;32m      4\u001b[0m \u001b[38;5;66;03m# Plot bar graph using barplot() function\u001b[39;00m\n\u001b[1;32m----> 5\u001b[0m sns\u001b[38;5;241m.\u001b[39mbarplot(x\u001b[38;5;241m=\u001b[39m\u001b[43mtop5_lang\u001b[49m\u001b[38;5;241m.\u001b[39mindex , y \u001b[38;5;241m=\u001b[39mtop5_lang\u001b[38;5;241m.\u001b[39mvalues )\n",
      "\u001b[1;31mNameError\u001b[0m: name 'top5_lang' is not defined"
     ]
    }
   ],
   "source": [
    "# Plotting the Bar Graph\n",
    "# Setting theme for the sns background\n",
    "sns.set_theme(style='darkgrid')\n",
    "# Plot bar graph using barplot() function\n",
    "sns.barplot(x=top5_lang.index , y =top5_lang.values )"
   ]
  },
  {
   "cell_type": "markdown",
   "metadata": {
    "id": "V_noieOKo7B-"
   },
   "source": [
    "### Data Cleaning\n",
    "We will now be taking the tweet data that are in english language"
   ]
  },
  {
   "cell_type": "code",
   "execution_count": 33,
   "metadata": {
    "id": "AlayzkD0n3S4"
   },
   "outputs": [],
   "source": [
    "en_tweets=df_tweets.query('language ==\"en\"').reset_index()\n",
    "#reset index to renumber everything in order"
   ]
  },
  {
   "cell_type": "code",
   "execution_count": 34,
   "metadata": {
    "colab": {
     "base_uri": "https://localhost:8080/",
     "height": 858
    },
    "executionInfo": {
     "elapsed": 7,
     "status": "ok",
     "timestamp": 1700560686987,
     "user": {
      "displayName": "Jaryl L",
      "userId": "00435829646488835810"
     },
     "user_tz": -480
    },
    "id": "wz15rE66WVV4",
    "outputId": "951f6483-1a2e-4483-b6dc-78621d97ea49"
   },
   "outputs": [
    {
     "data": {
      "text/html": [
       "<div>\n",
       "<style scoped>\n",
       "    .dataframe tbody tr th:only-of-type {\n",
       "        vertical-align: middle;\n",
       "    }\n",
       "\n",
       "    .dataframe tbody tr th {\n",
       "        vertical-align: top;\n",
       "    }\n",
       "\n",
       "    .dataframe thead th {\n",
       "        text-align: right;\n",
       "    }\n",
       "</style>\n",
       "<table border=\"1\" class=\"dataframe\">\n",
       "  <thead>\n",
       "    <tr style=\"text-align: right;\">\n",
       "      <th></th>\n",
       "      <th>index</th>\n",
       "      <th>tweet</th>\n",
       "      <th>language</th>\n",
       "      <th>length</th>\n",
       "    </tr>\n",
       "  </thead>\n",
       "  <tbody>\n",
       "    <tr>\n",
       "      <th>0</th>\n",
       "      <td>0</td>\n",
       "      <td>@jensstoltenberg Nato/otan is the most terrorist organization in the world , there members are only white. The unipolar way is over now is multi     and russia and china are the new order</td>\n",
       "      <td>en</td>\n",
       "      <td>187</td>\n",
       "    </tr>\n",
       "    <tr>\n",
       "      <th>1</th>\n",
       "      <td>1</td>\n",
       "      <td>@bjovan3 @KimDotcom You’re talking as if it was Ukraine that invaded Russia and was trying to seize the capital. Are you sure you’re not confusing the two countries with one another?</td>\n",
       "      <td>en</td>\n",
       "      <td>182</td>\n",
       "    </tr>\n",
       "    <tr>\n",
       "      <th>2</th>\n",
       "      <td>2</td>\n",
       "      <td>@Trollstoy88 Bet russia wishes it hadnt wasted them all in syria now</td>\n",
       "      <td>en</td>\n",
       "      <td>68</td>\n",
       "    </tr>\n",
       "    <tr>\n",
       "      <th>3</th>\n",
       "      <td>3</td>\n",
       "      <td>On the last meeting Lukashenko and Putin talking about respect thst west should respect us then we can negotiate (here we have Stoltenberg show respect to Russia:)   https://t.co/e0ptJTwh6g</td>\n",
       "      <td>en</td>\n",
       "      <td>189</td>\n",
       "    </tr>\n",
       "    <tr>\n",
       "      <th>4</th>\n",
       "      <td>4</td>\n",
       "      <td>@hrkbenowen Why wouldn't he be? Russia (not that I'm a #putinpuppet) ain't playin' out here! Steamroll Season#7...😉</td>\n",
       "      <td>en</td>\n",
       "      <td>115</td>\n",
       "    </tr>\n",
       "    <tr>\n",
       "      <th>...</th>\n",
       "      <td>...</td>\n",
       "      <td>...</td>\n",
       "      <td>...</td>\n",
       "      <td>...</td>\n",
       "    </tr>\n",
       "    <tr>\n",
       "      <th>8788</th>\n",
       "      <td>10004</td>\n",
       "      <td>Ukraine has won the war. Russia is leaving Ukraine after heavy losses and humiliation.</td>\n",
       "      <td>en</td>\n",
       "      <td>86</td>\n",
       "    </tr>\n",
       "    <tr>\n",
       "      <th>8789</th>\n",
       "      <td>10005</td>\n",
       "      <td>Biden says it remains to be seen if the Kherson withdrawal will lead to some \"recalibration of positions\" over the winter and if Ukraine will be willing to compromise with Russia.</td>\n",
       "      <td>en</td>\n",
       "      <td>179</td>\n",
       "    </tr>\n",
       "    <tr>\n",
       "      <th>8790</th>\n",
       "      <td>10006</td>\n",
       "      <td>Talks with Russia? No way, say Ukrainians | Russia-Ukraine war News | Al Jazeera  https://t.co/L6Eh1ps5SF via @AJEnglish</td>\n",
       "      <td>en</td>\n",
       "      <td>120</td>\n",
       "    </tr>\n",
       "    <tr>\n",
       "      <th>8791</th>\n",
       "      <td>10007</td>\n",
       "      <td>@DylanBurns1776 Supporting kurds to sow division in Iran and Syria and Iraq is ok since it's not Russia that's doing it</td>\n",
       "      <td>en</td>\n",
       "      <td>119</td>\n",
       "    </tr>\n",
       "    <tr>\n",
       "      <th>8792</th>\n",
       "      <td>10008</td>\n",
       "      <td>@Breaking911 I voted for him last time, can’t say I’m up for 4 more years of Dems hollering Russia, and billions on stupid impeachments. And trashing your own people that supported you, not appealing at all. I can get the same policies, without the mouth from DeSantis. I’ll go with desantis</td>\n",
       "      <td>en</td>\n",
       "      <td>291</td>\n",
       "    </tr>\n",
       "  </tbody>\n",
       "</table>\n",
       "<p>8793 rows × 4 columns</p>\n",
       "</div>"
      ],
      "text/plain": [
       "      index  \\\n",
       "0         0   \n",
       "1         1   \n",
       "2         2   \n",
       "3         3   \n",
       "4         4   \n",
       "...     ...   \n",
       "8788  10004   \n",
       "8789  10005   \n",
       "8790  10006   \n",
       "8791  10007   \n",
       "8792  10008   \n",
       "\n",
       "                                                                                                                                                                                                                                                                                                    tweet  \\\n",
       "0                                                                                                             @jensstoltenberg Nato/otan is the most terrorist organization in the world , there members are only white. The unipolar way is over now is multi     and russia and china are the new order   \n",
       "1                                                                                                                  @bjovan3 @KimDotcom You’re talking as if it was Ukraine that invaded Russia and was trying to seize the capital. Are you sure you’re not confusing the two countries with one another?   \n",
       "2                                                                                                                                                                                                                                    @Trollstoy88 Bet russia wishes it hadnt wasted them all in syria now   \n",
       "3                                                                                                           On the last meeting Lukashenko and Putin talking about respect thst west should respect us then we can negotiate (here we have Stoltenberg show respect to Russia:)   https://t.co/e0ptJTwh6g   \n",
       "4                                                                                                                                                                                     @hrkbenowen Why wouldn't he be? Russia (not that I'm a #putinpuppet) ain't playin' out here! Steamroll Season#7...😉   \n",
       "...                                                                                                                                                                                                                                                                                                   ...   \n",
       "8788                                                                                                                                                                                                               Ukraine has won the war. Russia is leaving Ukraine after heavy losses and humiliation.   \n",
       "8789                                                                                                                  Biden says it remains to be seen if the Kherson withdrawal will lead to some \"recalibration of positions\" over the winter and if Ukraine will be willing to compromise with Russia.   \n",
       "8790                                                                                                                                                                             Talks with Russia? No way, say Ukrainians | Russia-Ukraine war News | Al Jazeera  https://t.co/L6Eh1ps5SF via @AJEnglish   \n",
       "8791                                                                                                                                                                              @DylanBurns1776 Supporting kurds to sow division in Iran and Syria and Iraq is ok since it's not Russia that's doing it   \n",
       "8792  @Breaking911 I voted for him last time, can’t say I’m up for 4 more years of Dems hollering Russia, and billions on stupid impeachments. And trashing your own people that supported you, not appealing at all. I can get the same policies, without the mouth from DeSantis. I’ll go with desantis   \n",
       "\n",
       "     language  length  \n",
       "0          en     187  \n",
       "1          en     182  \n",
       "2          en      68  \n",
       "3          en     189  \n",
       "4          en     115  \n",
       "...       ...     ...  \n",
       "8788       en      86  \n",
       "8789       en     179  \n",
       "8790       en     120  \n",
       "8791       en     119  \n",
       "8792       en     291  \n",
       "\n",
       "[8793 rows x 4 columns]"
      ]
     },
     "execution_count": 34,
     "metadata": {},
     "output_type": "execute_result"
    }
   ],
   "source": [
    "en_tweets"
   ]
  },
  {
   "cell_type": "code",
   "execution_count": 35,
   "metadata": {
    "id": "smj-t1XypsF4"
   },
   "outputs": [],
   "source": [
    "# Setting lemmatize and stopword variable\n",
    "lemmatizer=WordNetLemmatizer\n",
    "stopword=set(stopwords.words('english'))"
   ]
  },
  {
   "cell_type": "code",
   "execution_count": 36,
   "metadata": {
    "id": "GEq2bk5Sfa5g"
   },
   "outputs": [],
   "source": [
    "# Processing Tweet data\n",
    "def tweet_processor(tweet_data):\n",
    "  tweet_data = tweet_data.lower() # make everything lower case\n",
    "  # Removes any content that is in the format is \"[example_text]\" (usuasly links)\n",
    "  tweet_data = re.sub('\\[.*?\\]', '', tweet_data)\n",
    "  # Remove any text that is not lowercased\n",
    "  tweet_data = re.sub(\"[^a-z\\s]\", \"\", tweet_data)\n",
    "  return(tweet_data)"
   ]
  },
  {
   "cell_type": "code",
   "execution_count": 37,
   "metadata": {
    "colab": {
     "base_uri": "https://localhost:8080/"
    },
    "executionInfo": {
     "elapsed": 6,
     "status": "ok",
     "timestamp": 1700560686987,
     "user": {
      "displayName": "Jaryl L",
      "userId": "00435829646488835810"
     },
     "user_tz": -480
    },
    "id": "LqPEw_dBf2V-",
    "outputId": "c0cfba76-48fe-4da8-8d29-a53a954b997c"
   },
   "outputs": [
    {
     "data": {
      "text/plain": [
       "0    jensstoltenberg natootan is the most terrorist organization in the world  there members are only white the unipolar way is over now is multi     and russia and china are the new order\n",
       "Name: tweet, dtype: object"
      ]
     },
     "execution_count": 37,
     "metadata": {},
     "output_type": "execute_result"
    }
   ],
   "source": [
    "# Apply the tweet_processor to the first row\n",
    "df_tweets['tweet'][:1].apply(tweet_processor)"
   ]
  },
  {
   "cell_type": "code",
   "execution_count": 39,
   "metadata": {
    "id": "IbEhx8X1p4a4"
   },
   "outputs": [],
   "source": [
    "# Processing Tweet data in more detail\n",
    "def tweet_processor(tweet_data):\n",
    "  # Changing all tweet texts to be lowercase\n",
    "  tweet_data = tweet_data.lower()\n",
    "\n",
    "  # Removing punctuation\n",
    "  tweet_data = re.sub('\\[.*?\\]', '', tweet_data)\n",
    "\n",
    "  # Removing special characters and numbers\n",
    "  tweet_data = re.sub(\"[^a-z\\s]\", \"\", tweet_data)\n",
    "\n",
    "  # Removing hashtags\n",
    "  tweet_data = re.sub(\"#\", \" \", tweet_data)\n",
    "\n",
    "  # Removing RT\n",
    "  tweet_data = re.sub(\"RT[\\s]+\", \"\", tweet_data)\n",
    "\n",
    "  # Removing hyperlinks\n",
    "  tweet_data = re.sub('https?://\\S+|www\\.\\S+', '', tweet_data)\n",
    "\n",
    "  tweet_data = re.sub('<.*?>+', '', tweet_data)\n",
    "\n",
    "  tweet_data = re.sub('[%s]' % re.escape(string.punctuation), '', tweet_data)\n",
    "\n",
    "  # Removing lines separated by \\n\n",
    "  tweet_data = re.sub('\\n', '', tweet_data)\n",
    "\n",
    "  # Removing usernames\n",
    "  tweet_data = re.sub('\\w*\\d\\w*', '', tweet_data)\n",
    "\n",
    "  # Removing stopwords\n",
    "  tweet_data = [word for word in tweet_data.split(' ') if word not in stopword]\n",
    "  tweet_data = \" \".join(tweet_data)\n",
    "\n",
    "  # Lemmatisation\n",
    "  tweet_data = [lemmatizer.lemmatize(word) for word in tweet_data.split(' ')]\n",
    "  tweet_data = \" \".join(tweet_data)\n",
    "  # tweet_data = \",\".join([str(i) for i in tweet_data])\n",
    "  return tweet_data"
   ]
  },
  {
   "cell_type": "code",
   "execution_count": 40,
   "metadata": {
    "id": "7jrmf9xSVTyb"
   },
   "outputs": [],
   "source": [
    "# Copying dataframe and storing it in a new dataframe (make modifications on the new copy not the original)\n",
    "processed_tweet_data = df_tweets.copy()"
   ]
  },
  {
   "cell_type": "code",
   "execution_count": 48,
   "metadata": {
    "id": "eK8q5B_gWJIA"
   },
   "outputs": [
    {
     "ename": "TypeError",
     "evalue": "WordNetLemmatizer.lemmatize() missing 1 required positional argument: 'word'",
     "output_type": "error",
     "traceback": [
      "\u001b[1;31m---------------------------------------------------------------------------\u001b[0m",
      "\u001b[1;31mTypeError\u001b[0m                                 Traceback (most recent call last)",
      "Cell \u001b[1;32mIn[48], line 2\u001b[0m\n\u001b[0;32m      1\u001b[0m \u001b[38;5;66;03m# Applying the tweet_processor function created (and making a new column)\u001b[39;00m\n\u001b[1;32m----> 2\u001b[0m processed_tweet_data[\u001b[38;5;124m'\u001b[39m\u001b[38;5;124mReviewed_Tweet\u001b[39m\u001b[38;5;124m'\u001b[39m] \u001b[38;5;241m=\u001b[39m \u001b[43mdf_tweets\u001b[49m\u001b[43m[\u001b[49m\u001b[38;5;124;43m'\u001b[39;49m\u001b[38;5;124;43mtweet\u001b[39;49m\u001b[38;5;124;43m'\u001b[39;49m\u001b[43m]\u001b[49m\u001b[38;5;241;43m.\u001b[39;49m\u001b[43mapply\u001b[49m\u001b[43m(\u001b[49m\u001b[43mtweet_processor\u001b[49m\u001b[43m)\u001b[49m\n",
      "File \u001b[1;32mc:\\Users\\E-Ling\\Desktop\\mine-DAC-Curriculum\\.venv\\Lib\\site-packages\\pandas\\core\\series.py:4924\u001b[0m, in \u001b[0;36mSeries.apply\u001b[1;34m(self, func, convert_dtype, args, by_row, **kwargs)\u001b[0m\n\u001b[0;32m   4789\u001b[0m \u001b[38;5;28;01mdef\u001b[39;00m \u001b[38;5;21mapply\u001b[39m(\n\u001b[0;32m   4790\u001b[0m     \u001b[38;5;28mself\u001b[39m,\n\u001b[0;32m   4791\u001b[0m     func: AggFuncType,\n\u001b[1;32m   (...)\u001b[0m\n\u001b[0;32m   4796\u001b[0m     \u001b[38;5;241m*\u001b[39m\u001b[38;5;241m*\u001b[39mkwargs,\n\u001b[0;32m   4797\u001b[0m ) \u001b[38;5;241m-\u001b[39m\u001b[38;5;241m>\u001b[39m DataFrame \u001b[38;5;241m|\u001b[39m Series:\n\u001b[0;32m   4798\u001b[0m \u001b[38;5;250m    \u001b[39m\u001b[38;5;124;03m\"\"\"\u001b[39;00m\n\u001b[0;32m   4799\u001b[0m \u001b[38;5;124;03m    Invoke function on values of Series.\u001b[39;00m\n\u001b[0;32m   4800\u001b[0m \n\u001b[1;32m   (...)\u001b[0m\n\u001b[0;32m   4915\u001b[0m \u001b[38;5;124;03m    dtype: float64\u001b[39;00m\n\u001b[0;32m   4916\u001b[0m \u001b[38;5;124;03m    \"\"\"\u001b[39;00m\n\u001b[0;32m   4917\u001b[0m     \u001b[38;5;28;01mreturn\u001b[39;00m \u001b[43mSeriesApply\u001b[49m\u001b[43m(\u001b[49m\n\u001b[0;32m   4918\u001b[0m \u001b[43m        \u001b[49m\u001b[38;5;28;43mself\u001b[39;49m\u001b[43m,\u001b[49m\n\u001b[0;32m   4919\u001b[0m \u001b[43m        \u001b[49m\u001b[43mfunc\u001b[49m\u001b[43m,\u001b[49m\n\u001b[0;32m   4920\u001b[0m \u001b[43m        \u001b[49m\u001b[43mconvert_dtype\u001b[49m\u001b[38;5;241;43m=\u001b[39;49m\u001b[43mconvert_dtype\u001b[49m\u001b[43m,\u001b[49m\n\u001b[0;32m   4921\u001b[0m \u001b[43m        \u001b[49m\u001b[43mby_row\u001b[49m\u001b[38;5;241;43m=\u001b[39;49m\u001b[43mby_row\u001b[49m\u001b[43m,\u001b[49m\n\u001b[0;32m   4922\u001b[0m \u001b[43m        \u001b[49m\u001b[43margs\u001b[49m\u001b[38;5;241;43m=\u001b[39;49m\u001b[43margs\u001b[49m\u001b[43m,\u001b[49m\n\u001b[0;32m   4923\u001b[0m \u001b[43m        \u001b[49m\u001b[43mkwargs\u001b[49m\u001b[38;5;241;43m=\u001b[39;49m\u001b[43mkwargs\u001b[49m\u001b[43m,\u001b[49m\n\u001b[1;32m-> 4924\u001b[0m \u001b[43m    \u001b[49m\u001b[43m)\u001b[49m\u001b[38;5;241;43m.\u001b[39;49m\u001b[43mapply\u001b[49m\u001b[43m(\u001b[49m\u001b[43m)\u001b[49m\n",
      "File \u001b[1;32mc:\\Users\\E-Ling\\Desktop\\mine-DAC-Curriculum\\.venv\\Lib\\site-packages\\pandas\\core\\apply.py:1427\u001b[0m, in \u001b[0;36mSeriesApply.apply\u001b[1;34m(self)\u001b[0m\n\u001b[0;32m   1424\u001b[0m     \u001b[38;5;28;01mreturn\u001b[39;00m \u001b[38;5;28mself\u001b[39m\u001b[38;5;241m.\u001b[39mapply_compat()\n\u001b[0;32m   1426\u001b[0m \u001b[38;5;66;03m# self.func is Callable\u001b[39;00m\n\u001b[1;32m-> 1427\u001b[0m \u001b[38;5;28;01mreturn\u001b[39;00m \u001b[38;5;28;43mself\u001b[39;49m\u001b[38;5;241;43m.\u001b[39;49m\u001b[43mapply_standard\u001b[49m\u001b[43m(\u001b[49m\u001b[43m)\u001b[49m\n",
      "File \u001b[1;32mc:\\Users\\E-Ling\\Desktop\\mine-DAC-Curriculum\\.venv\\Lib\\site-packages\\pandas\\core\\apply.py:1507\u001b[0m, in \u001b[0;36mSeriesApply.apply_standard\u001b[1;34m(self)\u001b[0m\n\u001b[0;32m   1501\u001b[0m \u001b[38;5;66;03m# row-wise access\u001b[39;00m\n\u001b[0;32m   1502\u001b[0m \u001b[38;5;66;03m# apply doesn't have a `na_action` keyword and for backward compat reasons\u001b[39;00m\n\u001b[0;32m   1503\u001b[0m \u001b[38;5;66;03m# we need to give `na_action=\"ignore\"` for categorical data.\u001b[39;00m\n\u001b[0;32m   1504\u001b[0m \u001b[38;5;66;03m# TODO: remove the `na_action=\"ignore\"` when that default has been changed in\u001b[39;00m\n\u001b[0;32m   1505\u001b[0m \u001b[38;5;66;03m#  Categorical (GH51645).\u001b[39;00m\n\u001b[0;32m   1506\u001b[0m action \u001b[38;5;241m=\u001b[39m \u001b[38;5;124m\"\u001b[39m\u001b[38;5;124mignore\u001b[39m\u001b[38;5;124m\"\u001b[39m \u001b[38;5;28;01mif\u001b[39;00m \u001b[38;5;28misinstance\u001b[39m(obj\u001b[38;5;241m.\u001b[39mdtype, CategoricalDtype) \u001b[38;5;28;01melse\u001b[39;00m \u001b[38;5;28;01mNone\u001b[39;00m\n\u001b[1;32m-> 1507\u001b[0m mapped \u001b[38;5;241m=\u001b[39m \u001b[43mobj\u001b[49m\u001b[38;5;241;43m.\u001b[39;49m\u001b[43m_map_values\u001b[49m\u001b[43m(\u001b[49m\n\u001b[0;32m   1508\u001b[0m \u001b[43m    \u001b[49m\u001b[43mmapper\u001b[49m\u001b[38;5;241;43m=\u001b[39;49m\u001b[43mcurried\u001b[49m\u001b[43m,\u001b[49m\u001b[43m \u001b[49m\u001b[43mna_action\u001b[49m\u001b[38;5;241;43m=\u001b[39;49m\u001b[43maction\u001b[49m\u001b[43m,\u001b[49m\u001b[43m \u001b[49m\u001b[43mconvert\u001b[49m\u001b[38;5;241;43m=\u001b[39;49m\u001b[38;5;28;43mself\u001b[39;49m\u001b[38;5;241;43m.\u001b[39;49m\u001b[43mconvert_dtype\u001b[49m\n\u001b[0;32m   1509\u001b[0m \u001b[43m\u001b[49m\u001b[43m)\u001b[49m\n\u001b[0;32m   1511\u001b[0m \u001b[38;5;28;01mif\u001b[39;00m \u001b[38;5;28mlen\u001b[39m(mapped) \u001b[38;5;129;01mand\u001b[39;00m \u001b[38;5;28misinstance\u001b[39m(mapped[\u001b[38;5;241m0\u001b[39m], ABCSeries):\n\u001b[0;32m   1512\u001b[0m     \u001b[38;5;66;03m# GH#43986 Need to do list(mapped) in order to get treated as nested\u001b[39;00m\n\u001b[0;32m   1513\u001b[0m     \u001b[38;5;66;03m#  See also GH#25959 regarding EA support\u001b[39;00m\n\u001b[0;32m   1514\u001b[0m     \u001b[38;5;28;01mreturn\u001b[39;00m obj\u001b[38;5;241m.\u001b[39m_constructor_expanddim(\u001b[38;5;28mlist\u001b[39m(mapped), index\u001b[38;5;241m=\u001b[39mobj\u001b[38;5;241m.\u001b[39mindex)\n",
      "File \u001b[1;32mc:\\Users\\E-Ling\\Desktop\\mine-DAC-Curriculum\\.venv\\Lib\\site-packages\\pandas\\core\\base.py:921\u001b[0m, in \u001b[0;36mIndexOpsMixin._map_values\u001b[1;34m(self, mapper, na_action, convert)\u001b[0m\n\u001b[0;32m    918\u001b[0m \u001b[38;5;28;01mif\u001b[39;00m \u001b[38;5;28misinstance\u001b[39m(arr, ExtensionArray):\n\u001b[0;32m    919\u001b[0m     \u001b[38;5;28;01mreturn\u001b[39;00m arr\u001b[38;5;241m.\u001b[39mmap(mapper, na_action\u001b[38;5;241m=\u001b[39mna_action)\n\u001b[1;32m--> 921\u001b[0m \u001b[38;5;28;01mreturn\u001b[39;00m \u001b[43malgorithms\u001b[49m\u001b[38;5;241;43m.\u001b[39;49m\u001b[43mmap_array\u001b[49m\u001b[43m(\u001b[49m\u001b[43marr\u001b[49m\u001b[43m,\u001b[49m\u001b[43m \u001b[49m\u001b[43mmapper\u001b[49m\u001b[43m,\u001b[49m\u001b[43m \u001b[49m\u001b[43mna_action\u001b[49m\u001b[38;5;241;43m=\u001b[39;49m\u001b[43mna_action\u001b[49m\u001b[43m,\u001b[49m\u001b[43m \u001b[49m\u001b[43mconvert\u001b[49m\u001b[38;5;241;43m=\u001b[39;49m\u001b[43mconvert\u001b[49m\u001b[43m)\u001b[49m\n",
      "File \u001b[1;32mc:\\Users\\E-Ling\\Desktop\\mine-DAC-Curriculum\\.venv\\Lib\\site-packages\\pandas\\core\\algorithms.py:1743\u001b[0m, in \u001b[0;36mmap_array\u001b[1;34m(arr, mapper, na_action, convert)\u001b[0m\n\u001b[0;32m   1741\u001b[0m values \u001b[38;5;241m=\u001b[39m arr\u001b[38;5;241m.\u001b[39mastype(\u001b[38;5;28mobject\u001b[39m, copy\u001b[38;5;241m=\u001b[39m\u001b[38;5;28;01mFalse\u001b[39;00m)\n\u001b[0;32m   1742\u001b[0m \u001b[38;5;28;01mif\u001b[39;00m na_action \u001b[38;5;129;01mis\u001b[39;00m \u001b[38;5;28;01mNone\u001b[39;00m:\n\u001b[1;32m-> 1743\u001b[0m     \u001b[38;5;28;01mreturn\u001b[39;00m \u001b[43mlib\u001b[49m\u001b[38;5;241;43m.\u001b[39;49m\u001b[43mmap_infer\u001b[49m\u001b[43m(\u001b[49m\u001b[43mvalues\u001b[49m\u001b[43m,\u001b[49m\u001b[43m \u001b[49m\u001b[43mmapper\u001b[49m\u001b[43m,\u001b[49m\u001b[43m \u001b[49m\u001b[43mconvert\u001b[49m\u001b[38;5;241;43m=\u001b[39;49m\u001b[43mconvert\u001b[49m\u001b[43m)\u001b[49m\n\u001b[0;32m   1744\u001b[0m \u001b[38;5;28;01melse\u001b[39;00m:\n\u001b[0;32m   1745\u001b[0m     \u001b[38;5;28;01mreturn\u001b[39;00m lib\u001b[38;5;241m.\u001b[39mmap_infer_mask(\n\u001b[0;32m   1746\u001b[0m         values, mapper, mask\u001b[38;5;241m=\u001b[39misna(values)\u001b[38;5;241m.\u001b[39mview(np\u001b[38;5;241m.\u001b[39muint8), convert\u001b[38;5;241m=\u001b[39mconvert\n\u001b[0;32m   1747\u001b[0m     )\n",
      "File \u001b[1;32mlib.pyx:2972\u001b[0m, in \u001b[0;36mpandas._libs.lib.map_infer\u001b[1;34m()\u001b[0m\n",
      "Cell \u001b[1;32mIn[39], line 36\u001b[0m, in \u001b[0;36mtweet_processor\u001b[1;34m(tweet_data)\u001b[0m\n\u001b[0;32m     33\u001b[0m tweet_data \u001b[38;5;241m=\u001b[39m \u001b[38;5;124m\"\u001b[39m\u001b[38;5;124m \u001b[39m\u001b[38;5;124m\"\u001b[39m\u001b[38;5;241m.\u001b[39mjoin(tweet_data)\n\u001b[0;32m     35\u001b[0m \u001b[38;5;66;03m# Lemmatisation\u001b[39;00m\n\u001b[1;32m---> 36\u001b[0m tweet_data \u001b[38;5;241m=\u001b[39m [\u001b[43mlemmatizer\u001b[49m\u001b[38;5;241;43m.\u001b[39;49m\u001b[43mlemmatize\u001b[49m\u001b[43m(\u001b[49m\u001b[43mword\u001b[49m\u001b[43m)\u001b[49m \u001b[38;5;28;01mfor\u001b[39;00m word \u001b[38;5;129;01min\u001b[39;00m tweet_data\u001b[38;5;241m.\u001b[39msplit(\u001b[38;5;124m'\u001b[39m\u001b[38;5;124m \u001b[39m\u001b[38;5;124m'\u001b[39m)]\n\u001b[0;32m     37\u001b[0m tweet_data \u001b[38;5;241m=\u001b[39m \u001b[38;5;124m\"\u001b[39m\u001b[38;5;124m \u001b[39m\u001b[38;5;124m\"\u001b[39m\u001b[38;5;241m.\u001b[39mjoin(tweet_data)\n\u001b[0;32m     38\u001b[0m \u001b[38;5;66;03m# tweet_data = \",\".join([str(i) for i in tweet_data])\u001b[39;00m\n",
      "\u001b[1;31mTypeError\u001b[0m: WordNetLemmatizer.lemmatize() missing 1 required positional argument: 'word'"
     ]
    }
   ],
   "source": [
    "# Applying the tweet_processor function created (and making a new column)\n",
    "processed_tweet_data['Reviewed_Tweet'] = df_tweets['tweet'].apply(tweet_processor)"
   ]
  },
  {
   "cell_type": "code",
   "execution_count": 42,
   "metadata": {
    "colab": {
     "base_uri": "https://localhost:8080/"
    },
    "executionInfo": {
     "elapsed": 4,
     "status": "ok",
     "timestamp": 1700560699651,
     "user": {
      "displayName": "Jaryl L",
      "userId": "00435829646488835810"
     },
     "user_tz": -480
    },
    "id": "W_HKh1J2YR1-",
    "outputId": "8048069d-510b-4890-b3a0-4a04aabecdcf"
   },
   "outputs": [
    {
     "ename": "KeyError",
     "evalue": "'Reviewed_Tweet'",
     "output_type": "error",
     "traceback": [
      "\u001b[1;31m---------------------------------------------------------------------------\u001b[0m",
      "\u001b[1;31mKeyError\u001b[0m                                  Traceback (most recent call last)",
      "File \u001b[1;32mc:\\Users\\E-Ling\\Desktop\\mine-DAC-Curriculum\\.venv\\Lib\\site-packages\\pandas\\core\\indexes\\base.py:3805\u001b[0m, in \u001b[0;36mIndex.get_loc\u001b[1;34m(self, key)\u001b[0m\n\u001b[0;32m   3804\u001b[0m \u001b[38;5;28;01mtry\u001b[39;00m:\n\u001b[1;32m-> 3805\u001b[0m     \u001b[38;5;28;01mreturn\u001b[39;00m \u001b[38;5;28;43mself\u001b[39;49m\u001b[38;5;241;43m.\u001b[39;49m\u001b[43m_engine\u001b[49m\u001b[38;5;241;43m.\u001b[39;49m\u001b[43mget_loc\u001b[49m\u001b[43m(\u001b[49m\u001b[43mcasted_key\u001b[49m\u001b[43m)\u001b[49m\n\u001b[0;32m   3806\u001b[0m \u001b[38;5;28;01mexcept\u001b[39;00m \u001b[38;5;167;01mKeyError\u001b[39;00m \u001b[38;5;28;01mas\u001b[39;00m err:\n",
      "File \u001b[1;32mindex.pyx:167\u001b[0m, in \u001b[0;36mpandas._libs.index.IndexEngine.get_loc\u001b[1;34m()\u001b[0m\n",
      "File \u001b[1;32mindex.pyx:196\u001b[0m, in \u001b[0;36mpandas._libs.index.IndexEngine.get_loc\u001b[1;34m()\u001b[0m\n",
      "File \u001b[1;32mpandas\\\\_libs\\\\hashtable_class_helper.pxi:7081\u001b[0m, in \u001b[0;36mpandas._libs.hashtable.PyObjectHashTable.get_item\u001b[1;34m()\u001b[0m\n",
      "File \u001b[1;32mpandas\\\\_libs\\\\hashtable_class_helper.pxi:7089\u001b[0m, in \u001b[0;36mpandas._libs.hashtable.PyObjectHashTable.get_item\u001b[1;34m()\u001b[0m\n",
      "\u001b[1;31mKeyError\u001b[0m: 'Reviewed_Tweet'",
      "\nThe above exception was the direct cause of the following exception:\n",
      "\u001b[1;31mKeyError\u001b[0m                                  Traceback (most recent call last)",
      "Cell \u001b[1;32mIn[42], line 2\u001b[0m\n\u001b[0;32m      1\u001b[0m \u001b[38;5;66;03m# Displaying processed tweet data\u001b[39;00m\n\u001b[1;32m----> 2\u001b[0m \u001b[43mprocessed_tweet_data\u001b[49m\u001b[43m[\u001b[49m\u001b[38;5;124;43m'\u001b[39;49m\u001b[38;5;124;43mReviewed_Tweet\u001b[39;49m\u001b[38;5;124;43m'\u001b[39;49m\u001b[43m]\u001b[49m\n",
      "File \u001b[1;32mc:\\Users\\E-Ling\\Desktop\\mine-DAC-Curriculum\\.venv\\Lib\\site-packages\\pandas\\core\\frame.py:4102\u001b[0m, in \u001b[0;36mDataFrame.__getitem__\u001b[1;34m(self, key)\u001b[0m\n\u001b[0;32m   4100\u001b[0m \u001b[38;5;28;01mif\u001b[39;00m \u001b[38;5;28mself\u001b[39m\u001b[38;5;241m.\u001b[39mcolumns\u001b[38;5;241m.\u001b[39mnlevels \u001b[38;5;241m>\u001b[39m \u001b[38;5;241m1\u001b[39m:\n\u001b[0;32m   4101\u001b[0m     \u001b[38;5;28;01mreturn\u001b[39;00m \u001b[38;5;28mself\u001b[39m\u001b[38;5;241m.\u001b[39m_getitem_multilevel(key)\n\u001b[1;32m-> 4102\u001b[0m indexer \u001b[38;5;241m=\u001b[39m \u001b[38;5;28;43mself\u001b[39;49m\u001b[38;5;241;43m.\u001b[39;49m\u001b[43mcolumns\u001b[49m\u001b[38;5;241;43m.\u001b[39;49m\u001b[43mget_loc\u001b[49m\u001b[43m(\u001b[49m\u001b[43mkey\u001b[49m\u001b[43m)\u001b[49m\n\u001b[0;32m   4103\u001b[0m \u001b[38;5;28;01mif\u001b[39;00m is_integer(indexer):\n\u001b[0;32m   4104\u001b[0m     indexer \u001b[38;5;241m=\u001b[39m [indexer]\n",
      "File \u001b[1;32mc:\\Users\\E-Ling\\Desktop\\mine-DAC-Curriculum\\.venv\\Lib\\site-packages\\pandas\\core\\indexes\\base.py:3812\u001b[0m, in \u001b[0;36mIndex.get_loc\u001b[1;34m(self, key)\u001b[0m\n\u001b[0;32m   3807\u001b[0m     \u001b[38;5;28;01mif\u001b[39;00m \u001b[38;5;28misinstance\u001b[39m(casted_key, \u001b[38;5;28mslice\u001b[39m) \u001b[38;5;129;01mor\u001b[39;00m (\n\u001b[0;32m   3808\u001b[0m         \u001b[38;5;28misinstance\u001b[39m(casted_key, abc\u001b[38;5;241m.\u001b[39mIterable)\n\u001b[0;32m   3809\u001b[0m         \u001b[38;5;129;01mand\u001b[39;00m \u001b[38;5;28many\u001b[39m(\u001b[38;5;28misinstance\u001b[39m(x, \u001b[38;5;28mslice\u001b[39m) \u001b[38;5;28;01mfor\u001b[39;00m x \u001b[38;5;129;01min\u001b[39;00m casted_key)\n\u001b[0;32m   3810\u001b[0m     ):\n\u001b[0;32m   3811\u001b[0m         \u001b[38;5;28;01mraise\u001b[39;00m InvalidIndexError(key)\n\u001b[1;32m-> 3812\u001b[0m     \u001b[38;5;28;01mraise\u001b[39;00m \u001b[38;5;167;01mKeyError\u001b[39;00m(key) \u001b[38;5;28;01mfrom\u001b[39;00m \u001b[38;5;21;01merr\u001b[39;00m\n\u001b[0;32m   3813\u001b[0m \u001b[38;5;28;01mexcept\u001b[39;00m \u001b[38;5;167;01mTypeError\u001b[39;00m:\n\u001b[0;32m   3814\u001b[0m     \u001b[38;5;66;03m# If we have a listlike key, _check_indexing_error will raise\u001b[39;00m\n\u001b[0;32m   3815\u001b[0m     \u001b[38;5;66;03m#  InvalidIndexError. Otherwise we fall through and re-raise\u001b[39;00m\n\u001b[0;32m   3816\u001b[0m     \u001b[38;5;66;03m#  the TypeError.\u001b[39;00m\n\u001b[0;32m   3817\u001b[0m     \u001b[38;5;28mself\u001b[39m\u001b[38;5;241m.\u001b[39m_check_indexing_error(key)\n",
      "\u001b[1;31mKeyError\u001b[0m: 'Reviewed_Tweet'"
     ]
    }
   ],
   "source": [
    "# Displaying processed tweet data\n",
    "processed_tweet_data['Reviewed_Tweet']"
   ]
  },
  {
   "cell_type": "markdown",
   "metadata": {
    "id": "xnV9GgipZf9q"
   },
   "source": [
    "### More EDA"
   ]
  },
  {
   "cell_type": "code",
   "execution_count": 43,
   "metadata": {
    "id": "atlNW7nFZiW8"
   },
   "outputs": [],
   "source": [
    "# Subjectivity of the processed data from 0 to 1, 0 means neutral/facts, 1 means personal opinion\n",
    "# Create a function to get the subjectivity\n",
    "def getSubjectivity(text):\n",
    "    return TextBlob(text).sentiment.subjectivity\n"
   ]
  },
  {
   "cell_type": "code",
   "execution_count": 44,
   "metadata": {
    "id": "Rb3Ph-xWaM1V"
   },
   "outputs": [],
   "source": [
    "# Polarity of the processed data from -1 to 1, -1 means negative, 0 means neutral, 1 means positive\n",
    "# Create a function to get the polarity\n",
    "def getPolarity(text):\n",
    "    return TextBlob(text).sentiment.polarity \n"
   ]
  },
  {
   "cell_type": "code",
   "execution_count": 45,
   "metadata": {
    "id": "hh-y5pQgaUif"
   },
   "outputs": [
    {
     "ename": "KeyError",
     "evalue": "'Reviewed_Tweet'",
     "output_type": "error",
     "traceback": [
      "\u001b[1;31m---------------------------------------------------------------------------\u001b[0m",
      "\u001b[1;31mKeyError\u001b[0m                                  Traceback (most recent call last)",
      "File \u001b[1;32mc:\\Users\\E-Ling\\Desktop\\mine-DAC-Curriculum\\.venv\\Lib\\site-packages\\pandas\\core\\indexes\\base.py:3805\u001b[0m, in \u001b[0;36mIndex.get_loc\u001b[1;34m(self, key)\u001b[0m\n\u001b[0;32m   3804\u001b[0m \u001b[38;5;28;01mtry\u001b[39;00m:\n\u001b[1;32m-> 3805\u001b[0m     \u001b[38;5;28;01mreturn\u001b[39;00m \u001b[38;5;28;43mself\u001b[39;49m\u001b[38;5;241;43m.\u001b[39;49m\u001b[43m_engine\u001b[49m\u001b[38;5;241;43m.\u001b[39;49m\u001b[43mget_loc\u001b[49m\u001b[43m(\u001b[49m\u001b[43mcasted_key\u001b[49m\u001b[43m)\u001b[49m\n\u001b[0;32m   3806\u001b[0m \u001b[38;5;28;01mexcept\u001b[39;00m \u001b[38;5;167;01mKeyError\u001b[39;00m \u001b[38;5;28;01mas\u001b[39;00m err:\n",
      "File \u001b[1;32mindex.pyx:167\u001b[0m, in \u001b[0;36mpandas._libs.index.IndexEngine.get_loc\u001b[1;34m()\u001b[0m\n",
      "File \u001b[1;32mindex.pyx:196\u001b[0m, in \u001b[0;36mpandas._libs.index.IndexEngine.get_loc\u001b[1;34m()\u001b[0m\n",
      "File \u001b[1;32mpandas\\\\_libs\\\\hashtable_class_helper.pxi:7081\u001b[0m, in \u001b[0;36mpandas._libs.hashtable.PyObjectHashTable.get_item\u001b[1;34m()\u001b[0m\n",
      "File \u001b[1;32mpandas\\\\_libs\\\\hashtable_class_helper.pxi:7089\u001b[0m, in \u001b[0;36mpandas._libs.hashtable.PyObjectHashTable.get_item\u001b[1;34m()\u001b[0m\n",
      "\u001b[1;31mKeyError\u001b[0m: 'Reviewed_Tweet'",
      "\nThe above exception was the direct cause of the following exception:\n",
      "\u001b[1;31mKeyError\u001b[0m                                  Traceback (most recent call last)",
      "Cell \u001b[1;32mIn[45], line 2\u001b[0m\n\u001b[0;32m      1\u001b[0m \u001b[38;5;66;03m# Creating columns to display subjectivity and polarity\u001b[39;00m\n\u001b[1;32m----> 2\u001b[0m processed_tweet_data[\u001b[38;5;124m'\u001b[39m\u001b[38;5;124msubjectivity\u001b[39m\u001b[38;5;124m'\u001b[39m]\u001b[38;5;241m=\u001b[39m\u001b[43mprocessed_tweet_data\u001b[49m\u001b[43m[\u001b[49m\u001b[38;5;124;43m'\u001b[39;49m\u001b[38;5;124;43mReviewed_Tweet\u001b[39;49m\u001b[38;5;124;43m'\u001b[39;49m\u001b[43m]\u001b[49m\u001b[38;5;241m.\u001b[39mapply(getSubjectivity)\n\u001b[0;32m      3\u001b[0m processed_tweet_data[\u001b[38;5;124m'\u001b[39m\u001b[38;5;124mpolarity\u001b[39m\u001b[38;5;124m'\u001b[39m]\u001b[38;5;241m=\u001b[39mprocessed_tweet_data[\u001b[38;5;124m'\u001b[39m\u001b[38;5;124mReviewed_Tweet\u001b[39m\u001b[38;5;124m'\u001b[39m]\u001b[38;5;241m.\u001b[39mapply(getPolarity)\n",
      "File \u001b[1;32mc:\\Users\\E-Ling\\Desktop\\mine-DAC-Curriculum\\.venv\\Lib\\site-packages\\pandas\\core\\frame.py:4102\u001b[0m, in \u001b[0;36mDataFrame.__getitem__\u001b[1;34m(self, key)\u001b[0m\n\u001b[0;32m   4100\u001b[0m \u001b[38;5;28;01mif\u001b[39;00m \u001b[38;5;28mself\u001b[39m\u001b[38;5;241m.\u001b[39mcolumns\u001b[38;5;241m.\u001b[39mnlevels \u001b[38;5;241m>\u001b[39m \u001b[38;5;241m1\u001b[39m:\n\u001b[0;32m   4101\u001b[0m     \u001b[38;5;28;01mreturn\u001b[39;00m \u001b[38;5;28mself\u001b[39m\u001b[38;5;241m.\u001b[39m_getitem_multilevel(key)\n\u001b[1;32m-> 4102\u001b[0m indexer \u001b[38;5;241m=\u001b[39m \u001b[38;5;28;43mself\u001b[39;49m\u001b[38;5;241;43m.\u001b[39;49m\u001b[43mcolumns\u001b[49m\u001b[38;5;241;43m.\u001b[39;49m\u001b[43mget_loc\u001b[49m\u001b[43m(\u001b[49m\u001b[43mkey\u001b[49m\u001b[43m)\u001b[49m\n\u001b[0;32m   4103\u001b[0m \u001b[38;5;28;01mif\u001b[39;00m is_integer(indexer):\n\u001b[0;32m   4104\u001b[0m     indexer \u001b[38;5;241m=\u001b[39m [indexer]\n",
      "File \u001b[1;32mc:\\Users\\E-Ling\\Desktop\\mine-DAC-Curriculum\\.venv\\Lib\\site-packages\\pandas\\core\\indexes\\base.py:3812\u001b[0m, in \u001b[0;36mIndex.get_loc\u001b[1;34m(self, key)\u001b[0m\n\u001b[0;32m   3807\u001b[0m     \u001b[38;5;28;01mif\u001b[39;00m \u001b[38;5;28misinstance\u001b[39m(casted_key, \u001b[38;5;28mslice\u001b[39m) \u001b[38;5;129;01mor\u001b[39;00m (\n\u001b[0;32m   3808\u001b[0m         \u001b[38;5;28misinstance\u001b[39m(casted_key, abc\u001b[38;5;241m.\u001b[39mIterable)\n\u001b[0;32m   3809\u001b[0m         \u001b[38;5;129;01mand\u001b[39;00m \u001b[38;5;28many\u001b[39m(\u001b[38;5;28misinstance\u001b[39m(x, \u001b[38;5;28mslice\u001b[39m) \u001b[38;5;28;01mfor\u001b[39;00m x \u001b[38;5;129;01min\u001b[39;00m casted_key)\n\u001b[0;32m   3810\u001b[0m     ):\n\u001b[0;32m   3811\u001b[0m         \u001b[38;5;28;01mraise\u001b[39;00m InvalidIndexError(key)\n\u001b[1;32m-> 3812\u001b[0m     \u001b[38;5;28;01mraise\u001b[39;00m \u001b[38;5;167;01mKeyError\u001b[39;00m(key) \u001b[38;5;28;01mfrom\u001b[39;00m \u001b[38;5;21;01merr\u001b[39;00m\n\u001b[0;32m   3813\u001b[0m \u001b[38;5;28;01mexcept\u001b[39;00m \u001b[38;5;167;01mTypeError\u001b[39;00m:\n\u001b[0;32m   3814\u001b[0m     \u001b[38;5;66;03m# If we have a listlike key, _check_indexing_error will raise\u001b[39;00m\n\u001b[0;32m   3815\u001b[0m     \u001b[38;5;66;03m#  InvalidIndexError. Otherwise we fall through and re-raise\u001b[39;00m\n\u001b[0;32m   3816\u001b[0m     \u001b[38;5;66;03m#  the TypeError.\u001b[39;00m\n\u001b[0;32m   3817\u001b[0m     \u001b[38;5;28mself\u001b[39m\u001b[38;5;241m.\u001b[39m_check_indexing_error(key)\n",
      "\u001b[1;31mKeyError\u001b[0m: 'Reviewed_Tweet'"
     ]
    }
   ],
   "source": [
    "# Creating columns to display subjectivity and polarity\n",
    "processed_tweet_data['subjectivity']=processed_tweet_data['Reviewed_Tweet'].apply(getSubjectivity)\n",
    "processed_tweet_data['polarity']=processed_tweet_data['Reviewed_Tweet'].apply(getPolarity)\n"
   ]
  },
  {
   "cell_type": "code",
   "execution_count": null,
   "metadata": {
    "colab": {
     "base_uri": "https://localhost:8080/",
     "height": 736
    },
    "executionInfo": {
     "elapsed": 332,
     "status": "ok",
     "timestamp": 1700335409230,
     "user": {
      "displayName": "Jaryl L",
      "userId": "00435829646488835810"
     },
     "user_tz": -480
    },
    "id": "7Eza5q5yaqm4",
    "outputId": "cd7ed1d6-bc51-45e2-80ab-d8594fb0feeb"
   },
   "outputs": [
    {
     "data": {
      "text/html": [
       "<div>\n",
       "<style scoped>\n",
       "    .dataframe tbody tr th:only-of-type {\n",
       "        vertical-align: middle;\n",
       "    }\n",
       "\n",
       "    .dataframe tbody tr th {\n",
       "        vertical-align: top;\n",
       "    }\n",
       "\n",
       "    .dataframe thead th {\n",
       "        text-align: right;\n",
       "    }\n",
       "</style>\n",
       "<table border=\"1\" class=\"dataframe\">\n",
       "  <thead>\n",
       "    <tr style=\"text-align: right;\">\n",
       "      <th></th>\n",
       "      <th>tweet</th>\n",
       "      <th>language</th>\n",
       "      <th>length</th>\n",
       "      <th>Reviewed_Tweet</th>\n",
       "      <th>subjectivity</th>\n",
       "      <th>polarity</th>\n",
       "    </tr>\n",
       "  </thead>\n",
       "  <tbody>\n",
       "    <tr>\n",
       "      <th>0</th>\n",
       "      <td>@jensstoltenberg Nato/otan is the most terrorist organization in the world , there members are only white. The unipolar way is over now is multi     and russia and china are the new order</td>\n",
       "      <td>en</td>\n",
       "      <td>187</td>\n",
       "      <td>jensstoltenberg natootan is the most terrorist organization in the world  there members are only white the unipolar way is over now is multi     and russia and china are the new order</td>\n",
       "      <td>0.488636</td>\n",
       "      <td>0.159091</td>\n",
       "    </tr>\n",
       "    <tr>\n",
       "      <th>1</th>\n",
       "      <td>@bjovan3 @KimDotcom You’re talking as if it was Ukraine that invaded Russia and was trying to seize the capital. Are you sure you’re not confusing the two countries with one another?</td>\n",
       "      <td>en</td>\n",
       "      <td>182</td>\n",
       "      <td>bjovan kimdotcom youre talking as if it was ukraine that invaded russia and was trying to seize the capital are you sure youre not confusing the two countries with one another</td>\n",
       "      <td>0.644444</td>\n",
       "      <td>0.325000</td>\n",
       "    </tr>\n",
       "    <tr>\n",
       "      <th>2</th>\n",
       "      <td>@Trollstoy88 Bet russia wishes it hadnt wasted them all in syria now</td>\n",
       "      <td>en</td>\n",
       "      <td>68</td>\n",
       "      <td>trollstoy bet russia wishes it hadnt wasted them all in syria now</td>\n",
       "      <td>0.000000</td>\n",
       "      <td>-0.200000</td>\n",
       "    </tr>\n",
       "    <tr>\n",
       "      <th>3</th>\n",
       "      <td>On the last meeting Lukashenko and Putin talking about respect thst west should respect us then we can negotiate (here we have Stoltenberg show respect to Russia:)   https://t.co/e0ptJTwh6g</td>\n",
       "      <td>en</td>\n",
       "      <td>189</td>\n",
       "      <td>on the last meeting lukashenko and putin talking about respect thst west should respect us then we can negotiate here we have stoltenberg show respect to russia   httpstcoeptjtwhg</td>\n",
       "      <td>0.066667</td>\n",
       "      <td>0.000000</td>\n",
       "    </tr>\n",
       "    <tr>\n",
       "      <th>4</th>\n",
       "      <td>@hrkbenowen Why wouldn't he be? Russia (not that I'm a #putinpuppet) ain't playin' out here! Steamroll Season#7...😉</td>\n",
       "      <td>en</td>\n",
       "      <td>115</td>\n",
       "      <td>hrkbenowen why wouldnt he be russia not that im a putinpuppet aint playin out here steamroll season</td>\n",
       "      <td>0.000000</td>\n",
       "      <td>0.000000</td>\n",
       "    </tr>\n",
       "    <tr>\n",
       "      <th>...</th>\n",
       "      <td>...</td>\n",
       "      <td>...</td>\n",
       "      <td>...</td>\n",
       "      <td>...</td>\n",
       "      <td>...</td>\n",
       "      <td>...</td>\n",
       "    </tr>\n",
       "    <tr>\n",
       "      <th>10004</th>\n",
       "      <td>Ukraine has won the war. Russia is leaving Ukraine after heavy losses and humiliation.</td>\n",
       "      <td>en</td>\n",
       "      <td>86</td>\n",
       "      <td>ukraine has won the war russia is leaving ukraine after heavy losses and humiliation</td>\n",
       "      <td>0.500000</td>\n",
       "      <td>-0.200000</td>\n",
       "    </tr>\n",
       "    <tr>\n",
       "      <th>10005</th>\n",
       "      <td>Biden says it remains to be seen if the Kherson withdrawal will lead to some \"recalibration of positions\" over the winter and if Ukraine will be willing to compromise with Russia.</td>\n",
       "      <td>en</td>\n",
       "      <td>179</td>\n",
       "      <td>biden says it remains to be seen if the kherson withdrawal will lead to some recalibration of positions over the winter and if ukraine will be willing to compromise with russia</td>\n",
       "      <td>0.750000</td>\n",
       "      <td>0.250000</td>\n",
       "    </tr>\n",
       "    <tr>\n",
       "      <th>10006</th>\n",
       "      <td>Talks with Russia? No way, say Ukrainians | Russia-Ukraine war News | Al Jazeera  https://t.co/L6Eh1ps5SF via @AJEnglish</td>\n",
       "      <td>en</td>\n",
       "      <td>120</td>\n",
       "      <td>talks with russia no way say ukrainians  russiaukraine war news  al jazeera  httpstcolehpssf via ajenglish</td>\n",
       "      <td>0.000000</td>\n",
       "      <td>0.000000</td>\n",
       "    </tr>\n",
       "    <tr>\n",
       "      <th>10007</th>\n",
       "      <td>@DylanBurns1776 Supporting kurds to sow division in Iran and Syria and Iraq is ok since it's not Russia that's doing it</td>\n",
       "      <td>en</td>\n",
       "      <td>119</td>\n",
       "      <td>dylanburns supporting kurds to sow division in iran and syria and iraq is ok since its not russia thats doing it</td>\n",
       "      <td>0.375000</td>\n",
       "      <td>0.375000</td>\n",
       "    </tr>\n",
       "    <tr>\n",
       "      <th>10008</th>\n",
       "      <td>@Breaking911 I voted for him last time, can’t say I’m up for 4 more years of Dems hollering Russia, and billions on stupid impeachments. And trashing your own people that supported you, not appealing at all. I can get the same policies, without the mouth from DeSantis. I’ll go with desantis</td>\n",
       "      <td>en</td>\n",
       "      <td>291</td>\n",
       "      <td>breaking i voted for him last time cant say im up for  more years of dems hollering russia and billions on stupid impeachments and trashing your own people that supported you not appealing at all i can get the same policies without the mouth from desantis ill go with desantis</td>\n",
       "      <td>0.598810</td>\n",
       "      <td>-0.064286</td>\n",
       "    </tr>\n",
       "  </tbody>\n",
       "</table>\n",
       "<p>10009 rows × 6 columns</p>\n",
       "</div>"
      ],
      "text/plain": [
       "                                                                                                                                                                                                                                                                                                     tweet  \\\n",
       "0                                                                                                              @jensstoltenberg Nato/otan is the most terrorist organization in the world , there members are only white. The unipolar way is over now is multi     and russia and china are the new order   \n",
       "1                                                                                                                   @bjovan3 @KimDotcom You’re talking as if it was Ukraine that invaded Russia and was trying to seize the capital. Are you sure you’re not confusing the two countries with one another?   \n",
       "2                                                                                                                                                                                                                                     @Trollstoy88 Bet russia wishes it hadnt wasted them all in syria now   \n",
       "3                                                                                                            On the last meeting Lukashenko and Putin talking about respect thst west should respect us then we can negotiate (here we have Stoltenberg show respect to Russia:)   https://t.co/e0ptJTwh6g   \n",
       "4                                                                                                                                                                                      @hrkbenowen Why wouldn't he be? Russia (not that I'm a #putinpuppet) ain't playin' out here! Steamroll Season#7...😉   \n",
       "...                                                                                                                                                                                                                                                                                                    ...   \n",
       "10004                                                                                                                                                                                                               Ukraine has won the war. Russia is leaving Ukraine after heavy losses and humiliation.   \n",
       "10005                                                                                                                  Biden says it remains to be seen if the Kherson withdrawal will lead to some \"recalibration of positions\" over the winter and if Ukraine will be willing to compromise with Russia.   \n",
       "10006                                                                                                                                                                             Talks with Russia? No way, say Ukrainians | Russia-Ukraine war News | Al Jazeera  https://t.co/L6Eh1ps5SF via @AJEnglish   \n",
       "10007                                                                                                                                                                              @DylanBurns1776 Supporting kurds to sow division in Iran and Syria and Iraq is ok since it's not Russia that's doing it   \n",
       "10008  @Breaking911 I voted for him last time, can’t say I’m up for 4 more years of Dems hollering Russia, and billions on stupid impeachments. And trashing your own people that supported you, not appealing at all. I can get the same policies, without the mouth from DeSantis. I’ll go with desantis   \n",
       "\n",
       "      language  length  \\\n",
       "0           en     187   \n",
       "1           en     182   \n",
       "2           en      68   \n",
       "3           en     189   \n",
       "4           en     115   \n",
       "...        ...     ...   \n",
       "10004       en      86   \n",
       "10005       en     179   \n",
       "10006       en     120   \n",
       "10007       en     119   \n",
       "10008       en     291   \n",
       "\n",
       "                                                                                                                                                                                                                                                                             Reviewed_Tweet  \\\n",
       "0                                                                                                   jensstoltenberg natootan is the most terrorist organization in the world  there members are only white the unipolar way is over now is multi     and russia and china are the new order   \n",
       "1                                                                                                           bjovan kimdotcom youre talking as if it was ukraine that invaded russia and was trying to seize the capital are you sure youre not confusing the two countries with one another   \n",
       "2                                                                                                                                                                                                                         trollstoy bet russia wishes it hadnt wasted them all in syria now   \n",
       "3                                                                                                       on the last meeting lukashenko and putin talking about respect thst west should respect us then we can negotiate here we have stoltenberg show respect to russia   httpstcoeptjtwhg   \n",
       "4                                                                                                                                                                                       hrkbenowen why wouldnt he be russia not that im a putinpuppet aint playin out here steamroll season   \n",
       "...                                                                                                                                                                                                                                                                                     ...   \n",
       "10004                                                                                                                                                                                                  ukraine has won the war russia is leaving ukraine after heavy losses and humiliation   \n",
       "10005                                                                                                      biden says it remains to be seen if the kherson withdrawal will lead to some recalibration of positions over the winter and if ukraine will be willing to compromise with russia   \n",
       "10006                                                                                                                                                                            talks with russia no way say ukrainians  russiaukraine war news  al jazeera  httpstcolehpssf via ajenglish   \n",
       "10007                                                                                                                                                                      dylanburns supporting kurds to sow division in iran and syria and iraq is ok since its not russia thats doing it   \n",
       "10008  breaking i voted for him last time cant say im up for  more years of dems hollering russia and billions on stupid impeachments and trashing your own people that supported you not appealing at all i can get the same policies without the mouth from desantis ill go with desantis   \n",
       "\n",
       "       subjectivity  polarity  \n",
       "0          0.488636  0.159091  \n",
       "1          0.644444  0.325000  \n",
       "2          0.000000 -0.200000  \n",
       "3          0.066667  0.000000  \n",
       "4          0.000000  0.000000  \n",
       "...             ...       ...  \n",
       "10004      0.500000 -0.200000  \n",
       "10005      0.750000  0.250000  \n",
       "10006      0.000000  0.000000  \n",
       "10007      0.375000  0.375000  \n",
       "10008      0.598810 -0.064286  \n",
       "\n",
       "[10009 rows x 6 columns]"
      ]
     },
     "execution_count": 31,
     "metadata": {},
     "output_type": "execute_result"
    }
   ],
   "source": [
    "processed_tweet_data"
   ]
  },
  {
   "cell_type": "markdown",
   "metadata": {
    "id": "GFEs69hdbARw"
   },
   "source": [
    "### Word Cloud"
   ]
  },
  {
   "cell_type": "code",
   "execution_count": null,
   "metadata": {
    "colab": {
     "base_uri": "https://localhost:8080/",
     "height": 367
    },
    "executionInfo": {
     "elapsed": 8442,
     "status": "ok",
     "timestamp": 1700335417670,
     "user": {
      "displayName": "Jaryl L",
      "userId": "00435829646488835810"
     },
     "user_tz": -480
    },
    "id": "jiZIt_e4atgk",
    "outputId": "825d6716-54d2-4975-cd4f-a2cda966a252"
   },
   "outputs": [
    {
     "data": {
      "image/png": "[encoded data removed]",
      "text/plain": [
       "<Figure size 640x480 with 1 Axes>"
      ]
     },
     "metadata": {},
     "output_type": "display_data"
    }
   ],
   "source": [
    "allTweets = ' '.join([tweets for tweets in processed_tweet_data['Reviewed_Tweet']])\n",
    "RU_wordcloud=WordCloud(width=900, height=600, random_state=21, max_font_size=100).generate(allTweets)\n",
    "plt.imshow(RU_wordcloud, interpolation = 'bilinear')\n",
    "plt.axis('off')\n",
    "plt.show()"
   ]
  },
  {
   "cell_type": "markdown",
   "metadata": {
    "id": "mZx9-DH9b-Sp"
   },
   "source": [
    "### Computing negative, neutral and positive analysis"
   ]
  },
  {
   "cell_type": "code",
   "execution_count": null,
   "metadata": {
    "id": "Fn1OpDOlbeVa"
   },
   "outputs": [],
   "source": [
    "#see if the sentiment is positive, negative or neutral\n",
    "def getComputation(score):\n",
    "    if score < -0.5:\n",
    "        return \"very negative\"\n",
    "    if score <0:\n",
    "        return \"negative\"\n",
    "    elif score==0:\n",
    "        return\"neutral\"\n",
    "    elif score > 0:\n",
    "        return \"postive\"\n",
    "    \n",
    "processed_tweet_data['computation_analysis']=processed_tweet_data['polarity'].apply(getComputation)\n",
    "\n",
    "\n"
   ]
  },
  {
   "cell_type": "code",
   "execution_count": 47,
   "metadata": {
    "colab": {
     "base_uri": "https://localhost:8080/",
     "height": 858
    },
    "executionInfo": {
     "elapsed": 7,
     "status": "ok",
     "timestamp": 1700335417670,
     "user": {
      "displayName": "Jaryl L",
      "userId": "00435829646488835810"
     },
     "user_tz": -480
    },
    "id": "1Rv2FiCMcKKs",
    "outputId": "46ebf75f-e969-4ece-f816-1a8b43849bf7"
   },
   "outputs": [
    {
     "data": {
      "text/html": [
       "<div>\n",
       "<style scoped>\n",
       "    .dataframe tbody tr th:only-of-type {\n",
       "        vertical-align: middle;\n",
       "    }\n",
       "\n",
       "    .dataframe tbody tr th {\n",
       "        vertical-align: top;\n",
       "    }\n",
       "\n",
       "    .dataframe thead th {\n",
       "        text-align: right;\n",
       "    }\n",
       "</style>\n",
       "<table border=\"1\" class=\"dataframe\">\n",
       "  <thead>\n",
       "    <tr style=\"text-align: right;\">\n",
       "      <th></th>\n",
       "      <th>tweet</th>\n",
       "      <th>language</th>\n",
       "      <th>length</th>\n",
       "    </tr>\n",
       "  </thead>\n",
       "  <tbody>\n",
       "    <tr>\n",
       "      <th>0</th>\n",
       "      <td>@jensstoltenberg Nato/otan is the most terrorist organization in the world , there members are only white. The unipolar way is over now is multi     and russia and china are the new order</td>\n",
       "      <td>en</td>\n",
       "      <td>187</td>\n",
       "    </tr>\n",
       "    <tr>\n",
       "      <th>1</th>\n",
       "      <td>@bjovan3 @KimDotcom You’re talking as if it was Ukraine that invaded Russia and was trying to seize the capital. Are you sure you’re not confusing the two countries with one another?</td>\n",
       "      <td>en</td>\n",
       "      <td>182</td>\n",
       "    </tr>\n",
       "    <tr>\n",
       "      <th>2</th>\n",
       "      <td>@Trollstoy88 Bet russia wishes it hadnt wasted them all in syria now</td>\n",
       "      <td>en</td>\n",
       "      <td>68</td>\n",
       "    </tr>\n",
       "    <tr>\n",
       "      <th>3</th>\n",
       "      <td>On the last meeting Lukashenko and Putin talking about respect thst west should respect us then we can negotiate (here we have Stoltenberg show respect to Russia:)   https://t.co/e0ptJTwh6g</td>\n",
       "      <td>en</td>\n",
       "      <td>189</td>\n",
       "    </tr>\n",
       "    <tr>\n",
       "      <th>4</th>\n",
       "      <td>@hrkbenowen Why wouldn't he be? Russia (not that I'm a #putinpuppet) ain't playin' out here! Steamroll Season#7...😉</td>\n",
       "      <td>en</td>\n",
       "      <td>115</td>\n",
       "    </tr>\n",
       "    <tr>\n",
       "      <th>...</th>\n",
       "      <td>...</td>\n",
       "      <td>...</td>\n",
       "      <td>...</td>\n",
       "    </tr>\n",
       "    <tr>\n",
       "      <th>10004</th>\n",
       "      <td>Ukraine has won the war. Russia is leaving Ukraine after heavy losses and humiliation.</td>\n",
       "      <td>en</td>\n",
       "      <td>86</td>\n",
       "    </tr>\n",
       "    <tr>\n",
       "      <th>10005</th>\n",
       "      <td>Biden says it remains to be seen if the Kherson withdrawal will lead to some \"recalibration of positions\" over the winter and if Ukraine will be willing to compromise with Russia.</td>\n",
       "      <td>en</td>\n",
       "      <td>179</td>\n",
       "    </tr>\n",
       "    <tr>\n",
       "      <th>10006</th>\n",
       "      <td>Talks with Russia? No way, say Ukrainians | Russia-Ukraine war News | Al Jazeera  https://t.co/L6Eh1ps5SF via @AJEnglish</td>\n",
       "      <td>en</td>\n",
       "      <td>120</td>\n",
       "    </tr>\n",
       "    <tr>\n",
       "      <th>10007</th>\n",
       "      <td>@DylanBurns1776 Supporting kurds to sow division in Iran and Syria and Iraq is ok since it's not Russia that's doing it</td>\n",
       "      <td>en</td>\n",
       "      <td>119</td>\n",
       "    </tr>\n",
       "    <tr>\n",
       "      <th>10008</th>\n",
       "      <td>@Breaking911 I voted for him last time, can’t say I’m up for 4 more years of Dems hollering Russia, and billions on stupid impeachments. And trashing your own people that supported you, not appealing at all. I can get the same policies, without the mouth from DeSantis. I’ll go with desantis</td>\n",
       "      <td>en</td>\n",
       "      <td>291</td>\n",
       "    </tr>\n",
       "  </tbody>\n",
       "</table>\n",
       "<p>10009 rows × 3 columns</p>\n",
       "</div>"
      ],
      "text/plain": [
       "                                                                                                                                                                                                                                                                                                     tweet  \\\n",
       "0                                                                                                              @jensstoltenberg Nato/otan is the most terrorist organization in the world , there members are only white. The unipolar way is over now is multi     and russia and china are the new order   \n",
       "1                                                                                                                   @bjovan3 @KimDotcom You’re talking as if it was Ukraine that invaded Russia and was trying to seize the capital. Are you sure you’re not confusing the two countries with one another?   \n",
       "2                                                                                                                                                                                                                                     @Trollstoy88 Bet russia wishes it hadnt wasted them all in syria now   \n",
       "3                                                                                                            On the last meeting Lukashenko and Putin talking about respect thst west should respect us then we can negotiate (here we have Stoltenberg show respect to Russia:)   https://t.co/e0ptJTwh6g   \n",
       "4                                                                                                                                                                                      @hrkbenowen Why wouldn't he be? Russia (not that I'm a #putinpuppet) ain't playin' out here! Steamroll Season#7...😉   \n",
       "...                                                                                                                                                                                                                                                                                                    ...   \n",
       "10004                                                                                                                                                                                                               Ukraine has won the war. Russia is leaving Ukraine after heavy losses and humiliation.   \n",
       "10005                                                                                                                  Biden says it remains to be seen if the Kherson withdrawal will lead to some \"recalibration of positions\" over the winter and if Ukraine will be willing to compromise with Russia.   \n",
       "10006                                                                                                                                                                             Talks with Russia? No way, say Ukrainians | Russia-Ukraine war News | Al Jazeera  https://t.co/L6Eh1ps5SF via @AJEnglish   \n",
       "10007                                                                                                                                                                              @DylanBurns1776 Supporting kurds to sow division in Iran and Syria and Iraq is ok since it's not Russia that's doing it   \n",
       "10008  @Breaking911 I voted for him last time, can’t say I’m up for 4 more years of Dems hollering Russia, and billions on stupid impeachments. And trashing your own people that supported you, not appealing at all. I can get the same policies, without the mouth from DeSantis. I’ll go with desantis   \n",
       "\n",
       "      language  length  \n",
       "0           en     187  \n",
       "1           en     182  \n",
       "2           en      68  \n",
       "3           en     189  \n",
       "4           en     115  \n",
       "...        ...     ...  \n",
       "10004       en      86  \n",
       "10005       en     179  \n",
       "10006       en     120  \n",
       "10007       en     119  \n",
       "10008       en     291  \n",
       "\n",
       "[10009 rows x 3 columns]"
      ]
     },
     "execution_count": 47,
     "metadata": {},
     "output_type": "execute_result"
    }
   ],
   "source": [
    "processed_tweet_data"
   ]
  },
  {
   "cell_type": "code",
   "execution_count": null,
   "metadata": {
    "colab": {
     "base_uri": "https://localhost:8080/"
    },
    "executionInfo": {
     "elapsed": 6,
     "status": "ok",
     "timestamp": 1700335417670,
     "user": {
      "displayName": "Jaryl L",
      "userId": "00435829646488835810"
     },
     "user_tz": -480
    },
    "id": "NeRMoH4mcMyS",
    "outputId": "e2def5d0-97f0-4ff6-fe8d-d641326a0dd4"
   },
   "outputs": [
    {
     "name": "stdout",
     "output_type": "stream",
     "text": [
      "<class 'pandas.core.frame.DataFrame'>\n",
      "RangeIndex: 10009 entries, 0 to 10008\n",
      "Data columns (total 7 columns):\n",
      " #   Column                Non-Null Count  Dtype  \n",
      "---  ------                --------------  -----  \n",
      " 0   tweet                 10009 non-null  object \n",
      " 1   language              10009 non-null  object \n",
      " 2   length                10009 non-null  int64  \n",
      " 3   Reviewed_Tweet        10009 non-null  object \n",
      " 4   subjectivity          10009 non-null  float64\n",
      " 5   polarity              10009 non-null  float64\n",
      " 6   computation_analysis  10009 non-null  object \n",
      "dtypes: float64(2), int64(1), object(4)\n",
      "memory usage: 547.5+ KB\n"
     ]
    }
   ],
   "source": [
    "processed_tweet_data.info()"
   ]
  },
  {
   "cell_type": "markdown",
   "metadata": {
    "id": "B7fePCTKcWgO"
   },
   "source": [
    "### Plotting Polarity and Subjectivity\n",
    "Polarity of the processed data - Ranges from -1 to 1; -1 means negative, 0 means neutral, 1 means positive <br>\n",
    "Subjectivity of processed data - Ranges from 0 to 1; 0 means neutral/facts, 1 means personal opinion"
   ]
  },
  {
   "cell_type": "code",
   "execution_count": 49,
   "metadata": {
    "id": "Z76SvmnKcRt6"
   },
   "outputs": [
    {
     "ename": "KeyError",
     "evalue": "'Polarity'",
     "output_type": "error",
     "traceback": [
      "\u001b[1;31m---------------------------------------------------------------------------\u001b[0m",
      "\u001b[1;31mKeyError\u001b[0m                                  Traceback (most recent call last)",
      "\u001b[1;32m~\\AppData\\Local\\Temp\\ipykernel_27788\\3902467864.py\u001b[0m in \u001b[0;36m?\u001b[1;34m()\u001b[0m\n\u001b[0;32m      1\u001b[0m \u001b[1;31m# Creating a new dataframe sort_data to sort te polarity amd computation analysis\u001b[0m\u001b[1;33m\u001b[0m\u001b[1;33m\u001b[0m\u001b[0m\n\u001b[1;32m----> 2\u001b[1;33m \u001b[0msort_data\u001b[0m \u001b[1;33m=\u001b[0m \u001b[0mprocessed_tweet_data\u001b[0m\u001b[1;33m.\u001b[0m\u001b[0msort_values\u001b[0m\u001b[1;33m(\u001b[0m\u001b[0mby\u001b[0m\u001b[1;33m=\u001b[0m\u001b[1;33m[\u001b[0m\u001b[1;34m'Polarity'\u001b[0m\u001b[1;33m]\u001b[0m\u001b[1;33m)\u001b[0m\u001b[1;33m\u001b[0m\u001b[1;33m\u001b[0m\u001b[0m\n\u001b[0m",
      "\u001b[1;32mc:\\Users\\E-Ling\\Desktop\\mine-DAC-Curriculum\\.venv\\Lib\\site-packages\\pandas\\core\\frame.py\u001b[0m in \u001b[0;36m?\u001b[1;34m(self, by, axis, ascending, inplace, kind, na_position, ignore_index, key)\u001b[0m\n\u001b[0;32m   7185\u001b[0m             \u001b[1;33m)\u001b[0m\u001b[1;33m\u001b[0m\u001b[1;33m\u001b[0m\u001b[0m\n\u001b[0;32m   7186\u001b[0m         \u001b[1;32melif\u001b[0m \u001b[0mlen\u001b[0m\u001b[1;33m(\u001b[0m\u001b[0mby\u001b[0m\u001b[1;33m)\u001b[0m\u001b[1;33m:\u001b[0m\u001b[1;33m\u001b[0m\u001b[1;33m\u001b[0m\u001b[0m\n\u001b[0;32m   7187\u001b[0m             \u001b[1;31m# len(by) == 1\u001b[0m\u001b[1;33m\u001b[0m\u001b[1;33m\u001b[0m\u001b[0m\n\u001b[0;32m   7188\u001b[0m \u001b[1;33m\u001b[0m\u001b[0m\n\u001b[1;32m-> 7189\u001b[1;33m             \u001b[0mk\u001b[0m \u001b[1;33m=\u001b[0m \u001b[0mself\u001b[0m\u001b[1;33m.\u001b[0m\u001b[0m_get_label_or_level_values\u001b[0m\u001b[1;33m(\u001b[0m\u001b[0mby\u001b[0m\u001b[1;33m[\u001b[0m\u001b[1;36m0\u001b[0m\u001b[1;33m]\u001b[0m\u001b[1;33m,\u001b[0m \u001b[0maxis\u001b[0m\u001b[1;33m=\u001b[0m\u001b[0maxis\u001b[0m\u001b[1;33m)\u001b[0m\u001b[1;33m\u001b[0m\u001b[1;33m\u001b[0m\u001b[0m\n\u001b[0m\u001b[0;32m   7190\u001b[0m \u001b[1;33m\u001b[0m\u001b[0m\n\u001b[0;32m   7191\u001b[0m             \u001b[1;31m# need to rewrap column in Series to apply key function\u001b[0m\u001b[1;33m\u001b[0m\u001b[1;33m\u001b[0m\u001b[0m\n\u001b[0;32m   7192\u001b[0m             \u001b[1;32mif\u001b[0m \u001b[0mkey\u001b[0m \u001b[1;32mis\u001b[0m \u001b[1;32mnot\u001b[0m \u001b[1;32mNone\u001b[0m\u001b[1;33m:\u001b[0m\u001b[1;33m\u001b[0m\u001b[1;33m\u001b[0m\u001b[0m\n",
      "\u001b[1;32mc:\\Users\\E-Ling\\Desktop\\mine-DAC-Curriculum\\.venv\\Lib\\site-packages\\pandas\\core\\generic.py\u001b[0m in \u001b[0;36m?\u001b[1;34m(self, key, axis)\u001b[0m\n\u001b[0;32m   1907\u001b[0m             \u001b[0mvalues\u001b[0m \u001b[1;33m=\u001b[0m \u001b[0mself\u001b[0m\u001b[1;33m.\u001b[0m\u001b[0mxs\u001b[0m\u001b[1;33m(\u001b[0m\u001b[0mkey\u001b[0m\u001b[1;33m,\u001b[0m \u001b[0maxis\u001b[0m\u001b[1;33m=\u001b[0m\u001b[0mother_axes\u001b[0m\u001b[1;33m[\u001b[0m\u001b[1;36m0\u001b[0m\u001b[1;33m]\u001b[0m\u001b[1;33m)\u001b[0m\u001b[1;33m.\u001b[0m\u001b[0m_values\u001b[0m\u001b[1;33m\u001b[0m\u001b[1;33m\u001b[0m\u001b[0m\n\u001b[0;32m   1908\u001b[0m         \u001b[1;32melif\u001b[0m \u001b[0mself\u001b[0m\u001b[1;33m.\u001b[0m\u001b[0m_is_level_reference\u001b[0m\u001b[1;33m(\u001b[0m\u001b[0mkey\u001b[0m\u001b[1;33m,\u001b[0m \u001b[0maxis\u001b[0m\u001b[1;33m=\u001b[0m\u001b[0maxis\u001b[0m\u001b[1;33m)\u001b[0m\u001b[1;33m:\u001b[0m\u001b[1;33m\u001b[0m\u001b[1;33m\u001b[0m\u001b[0m\n\u001b[0;32m   1909\u001b[0m             \u001b[0mvalues\u001b[0m \u001b[1;33m=\u001b[0m \u001b[0mself\u001b[0m\u001b[1;33m.\u001b[0m\u001b[0maxes\u001b[0m\u001b[1;33m[\u001b[0m\u001b[0maxis\u001b[0m\u001b[1;33m]\u001b[0m\u001b[1;33m.\u001b[0m\u001b[0mget_level_values\u001b[0m\u001b[1;33m(\u001b[0m\u001b[0mkey\u001b[0m\u001b[1;33m)\u001b[0m\u001b[1;33m.\u001b[0m\u001b[0m_values\u001b[0m\u001b[1;33m\u001b[0m\u001b[1;33m\u001b[0m\u001b[0m\n\u001b[0;32m   1910\u001b[0m         \u001b[1;32melse\u001b[0m\u001b[1;33m:\u001b[0m\u001b[1;33m\u001b[0m\u001b[1;33m\u001b[0m\u001b[0m\n\u001b[1;32m-> 1911\u001b[1;33m             \u001b[1;32mraise\u001b[0m \u001b[0mKeyError\u001b[0m\u001b[1;33m(\u001b[0m\u001b[0mkey\u001b[0m\u001b[1;33m)\u001b[0m\u001b[1;33m\u001b[0m\u001b[1;33m\u001b[0m\u001b[0m\n\u001b[0m\u001b[0;32m   1912\u001b[0m \u001b[1;33m\u001b[0m\u001b[0m\n\u001b[0;32m   1913\u001b[0m         \u001b[1;31m# Check for duplicates\u001b[0m\u001b[1;33m\u001b[0m\u001b[1;33m\u001b[0m\u001b[0m\n\u001b[0;32m   1914\u001b[0m         \u001b[1;32mif\u001b[0m \u001b[0mvalues\u001b[0m\u001b[1;33m.\u001b[0m\u001b[0mndim\u001b[0m \u001b[1;33m>\u001b[0m \u001b[1;36m1\u001b[0m\u001b[1;33m:\u001b[0m\u001b[1;33m\u001b[0m\u001b[1;33m\u001b[0m\u001b[0m\n",
      "\u001b[1;31mKeyError\u001b[0m: 'Polarity'"
     ]
    }
   ],
   "source": [
    "# Creating a new dataframe sort_data to sort te polarity amd computation analysis\n",
    "sort_data = processed_tweet_data.sort_values(by=['Polarity'])"
   ]
  },
  {
   "cell_type": "code",
   "execution_count": null,
   "metadata": {
    "id": "lBYYTPzddAZL"
   },
   "outputs": [],
   "source": [
    "sort_data['Computationa_Analysis']=sort_data [['Computation_Analysis']]"
   ]
  },
  {
   "cell_type": "code",
   "execution_count": null,
   "metadata": {
    "colab": {
     "base_uri": "https://localhost:8080/",
     "height": 550
    },
    "executionInfo": {
     "elapsed": 3958,
     "status": "ok",
     "timestamp": 1700335422133,
     "user": {
      "displayName": "Jaryl L",
      "userId": "00435829646488835810"
     },
     "user_tz": -480
    },
    "id": "UiXD4ujChi5x",
    "outputId": "d30b2455-755a-444e-b10d-33cebcbb8a9c"
   },
   "outputs": [],
   "source": [
    "# Plotting our scatter plot\n",
    "fig, ax = plt.subplots(figsize=(8,6))\n",
    "sns.scatterplot(x='Polarity', y='Subjectivity', hue='Computation_Analysis', data=sort_data)\n",
    "plt.show()"
   ]
  },
  {
   "cell_type": "code",
   "execution_count": null,
   "metadata": {
    "id": "2qGVO65dygaU"
   },
   "outputs": [
    {
     "name": "stdout",
     "output_type": "stream",
     "text": [
      "Requirement already satisfied: plotly in c:\\users\\e-ling\\desktop\\mine-dac-curriculum\\.venv\\lib\\site-packages (5.24.1)\n",
      "Requirement already satisfied: tenacity>=6.2.0 in c:\\users\\e-ling\\desktop\\mine-dac-curriculum\\.venv\\lib\\site-packages (from plotly) (9.0.0)\n",
      "Requirement already satisfied: packaging in c:\\users\\e-ling\\desktop\\mine-dac-curriculum\\.venv\\lib\\site-packages (from plotly) (24.1)\n"
     ]
    }
   ],
   "source": [
    "# Creating our variables to store each column\n",
    "!pip install plotly\n",
    "import plotly.figure_factory as ff\n",
    "\n",
    "positive =sort_data[sort_data.Computation_Analysis=='Positive']\n",
    "neutral = sort_data[sort_data.Computation_Analysis=='Neutral']\n",
    "neg = sort_data[sort_data.Computation_Analysis=='Negative']\n",
    "vneg= sort_data[sort_data.Computation_Analysis=='Very Negative']\n",
    "\n"
   ]
  },
  {
   "cell_type": "markdown",
   "metadata": {
    "colab": {
     "base_uri": "https://localhost:8080/",
     "height": 542
    },
    "executionInfo": {
     "elapsed": 606,
     "status": "ok",
     "timestamp": 1700338282192,
     "user": {
      "displayName": "Jaryl L",
      "userId": "00435829646488835810"
     },
     "user_tz": -480
    },
    "id": "FUJixdh2zQ_8",
    "outputId": "a703c893-6766-49e1-e9bc-a5666f67cb69"
   },
   "source": [
    "hist_data = [positive['length'],neutral['length'] , neg['length'] , vneg['length']]\n",
    "\n",
    "group_labels = ['Positive', 'Neutral', 'Negative', 'Very Negative']\n",
    "\n",
    "colors = ['black', 'red']\n",
    "\n",
    "### Create distplot with curve_type set to 'normal'\n",
    "fig = ff.create_distplot(hist_data, group_labels, show_hist=False)\n",
    "\n",
    "### Add title\n",
    "fig.update_layout(title_text='Length distribution of ham and spam messages',\n",
    "                 template = 'simple_white')\n",
    "fig.show()"
   ]
  },
  {
   "cell_type": "markdown",
   "metadata": {
    "id": "XthxlbvlhqoG"
   },
   "source": [
    "### Computing percentage of positive, neutral and negative tweets"
   ]
  },
  {
   "cell_type": "code",
   "execution_count": null,
   "metadata": {
    "colab": {
     "base_uri": "https://localhost:8080/"
    },
    "executionInfo": {
     "elapsed": 11,
     "status": "ok",
     "timestamp": 1700335422925,
     "user": {
      "displayName": "Jaryl L",
      "userId": "00435829646488835810"
     },
     "user_tz": -480
    },
    "id": "MqKTR7pRhnEB",
    "outputId": "a5d6b7f6-e8a1-44d2-8f4a-00a0eaa31b91"
   },
   "outputs": [],
   "source": [
    "# Percentage of positive tweets\n",
    "posTweets = sort_data[sort_data.ComputationAnalysis=='Positive']\n",
    "posTweets = posTweets['Reviewed_Tweets']\n",
    "round(posTweets.shape[0]/sort_data.shape[0]*100,1)\n",
    "\n"
   ]
  },
  {
   "cell_type": "code",
   "execution_count": null,
   "metadata": {
    "colab": {
     "base_uri": "https://localhost:8080/"
    },
    "executionInfo": {
     "elapsed": 9,
     "status": "ok",
     "timestamp": 1700335422925,
     "user": {
      "displayName": "Jaryl L",
      "userId": "00435829646488835810"
     },
     "user_tz": -480
    },
    "id": "mzy_x2e2ikfM",
    "outputId": "b16efdda-599a-4cc2-f343-9be0d4053fc6"
   },
   "outputs": [],
   "source": [
    "# Percentage of neutral tweets\n",
    "neuTweets = sort_data[sort_data.ComputationAnalysis=='Neutral']\n",
    "neuTweets = neuTweets['Reviewed_Tweets']\n",
    "round(neuTweets.shape[0]/sort_data.shape[0]*100,1)\n",
    "\n"
   ]
  },
  {
   "cell_type": "code",
   "execution_count": null,
   "metadata": {
    "colab": {
     "base_uri": "https://localhost:8080/"
    },
    "executionInfo": {
     "elapsed": 8,
     "status": "ok",
     "timestamp": 1700335422925,
     "user": {
      "displayName": "Jaryl L",
      "userId": "00435829646488835810"
     },
     "user_tz": -480
    },
    "id": "RXzfYUCMiysY",
    "outputId": "d62e5c3c-ea29-4b24-a584-0b4deaaea071"
   },
   "outputs": [],
   "source": [
    "# Percentage of negative tweets\n",
    "negTweets = sort_data[sort_data.ComputationAnalysis=='Negative']\n",
    "negTweets = negTweets['Reviewed_Tweets']\n",
    "round(negTweets.shape[0]/sort_data.shape[0]*100,1)\n",
    "\n"
   ]
  },
  {
   "cell_type": "code",
   "execution_count": null,
   "metadata": {
    "colab": {
     "base_uri": "https://localhost:8080/"
    },
    "executionInfo": {
     "elapsed": 7,
     "status": "ok",
     "timestamp": 1700335422925,
     "user": {
      "displayName": "Jaryl L",
      "userId": "00435829646488835810"
     },
     "user_tz": -480
    },
    "id": "WmmO8E68jDS-",
    "outputId": "610f782e-3342-4e33-98b2-011bb93108c9"
   },
   "outputs": [],
   "source": [
    "# Percentage of very negative tweets\n",
    "\n",
    "vnegTweets = sort_data[sort_data.ComputationAnalysis=='Very Negative']\n",
    "vnegTweets = negTweets['Reviewed_Tweets']\n",
    "round(vnegTweets.shape[0]/sort_data.shape[0]*100,1)\n"
   ]
  },
  {
   "cell_type": "code",
   "execution_count": null,
   "metadata": {
    "colab": {
     "base_uri": "https://localhost:8080/"
    },
    "executionInfo": {
     "elapsed": 6,
     "status": "ok",
     "timestamp": 1700335422925,
     "user": {
      "displayName": "Jaryl L",
      "userId": "00435829646488835810"
     },
     "user_tz": -480
    },
    "id": "ehc63gEEyHrO",
    "outputId": "112b30cb-6299-4223-d4ea-c2044741b8cf"
   },
   "outputs": [],
   "source": []
  },
  {
   "cell_type": "markdown",
   "metadata": {
    "id": "jKhx88McjUk_"
   },
   "source": [
    "### Graphical Representation of Tweet Analysis"
   ]
  },
  {
   "cell_type": "code",
   "execution_count": null,
   "metadata": {
    "colab": {
     "base_uri": "https://localhost:8080/",
     "height": 497
    },
    "executionInfo": {
     "elapsed": 1070,
     "status": "ok",
     "timestamp": 1700338491074,
     "user": {
      "displayName": "Jaryl L",
      "userId": "00435829646488835810"
     },
     "user_tz": -480
    },
    "id": "t_aC0nWnjRKg",
    "outputId": "d395c181-3955-4a2e-c784-d219012edcf0"
   },
   "outputs": [],
   "source": [
    "# sort_data['Computation_Analysis'].value_counts()\n",
    "# plt.title('Russian vs Ukraine Sentiment Analysis')\n",
    "# # plt.xlabel('General Sentiment Type')\n",
    "# # plt.ylabel('Count')\n",
    "# sns.countplot(x='Computation_Analysis', data=sort_data)"
   ]
  },
  {
   "cell_type": "code",
   "execution_count": null,
   "metadata": {
    "colab": {
     "base_uri": "https://localhost:8080/",
     "height": 445
    },
    "executionInfo": {
     "elapsed": 6,
     "status": "ok",
     "timestamp": 1700335423382,
     "user": {
      "displayName": "Jaryl L",
      "userId": "00435829646488835810"
     },
     "user_tz": -480
    },
    "id": "BP2uEyk-j0O_",
    "outputId": "57ab07b4-d8a9-4558-d957-ef20fdd397b4"
   },
   "outputs": [],
   "source": [
    "\n",
    "\n",
    "# colors = {'mediumturquoise', 'limegreen', 'mediumpurple', 'red'}\n",
    "# explode=(0.1,0.1,0.1,0.1 )\n",
    "\n",
    "\n"
   ]
  },
  {
   "cell_type": "markdown",
   "metadata": {
    "id": "cihpUqn_kMLa"
   },
   "source": [
    "### Emotion Detection"
   ]
  },
  {
   "cell_type": "code",
   "execution_count": null,
   "metadata": {
    "colab": {
     "base_uri": "https://localhost:8080/"
    },
    "executionInfo": {
     "elapsed": 7612,
     "status": "ok",
     "timestamp": 1700335430990,
     "user": {
      "displayName": "Jaryl L",
      "userId": "00435829646488835810"
     },
     "user_tz": -480
    },
    "id": "5OG8yf-0kJYc",
    "outputId": "ea0279c2-d3a6-4282-aedb-306ba3dcc11d"
   },
   "outputs": [],
   "source": [
    "# Using a python library to determine the extent of the person's emotions(e.g. fear, anger, anticipation, ...)\n",
    "\n"
   ]
  },
  {
   "cell_type": "code",
   "execution_count": null,
   "metadata": {
    "id": "6t3ZDiZKkpcf"
   },
   "outputs": [],
   "source": [
    "# Removing column with emotions and the extent in dictionaries, extracting the type of emotions from the dictionary,\n",
    "# concatenating as different columns into sort_data dataframe\n",
    "\n"
   ]
  },
  {
   "cell_type": "code",
   "execution_count": null,
   "metadata": {
    "colab": {
     "base_uri": "https://localhost:8080/",
     "height": 1000
    },
    "executionInfo": {
     "elapsed": 14,
     "status": "ok",
     "timestamp": 1700335443318,
     "user": {
      "displayName": "Jaryl L",
      "userId": "00435829646488835810"
     },
     "user_tz": -480
    },
    "id": "YFk1m2wPoLus",
    "outputId": "a03c4f83-1df2-4459-f055-ed40adfb8c4d"
   },
   "outputs": [],
   "source": []
  },
  {
   "cell_type": "code",
   "execution_count": null,
   "metadata": {
    "colab": {
     "base_uri": "https://localhost:8080/",
     "height": 1000
    },
    "executionInfo": {
     "elapsed": 534,
     "status": "ok",
     "timestamp": 1700335443840,
     "user": {
      "displayName": "Jaryl L",
      "userId": "00435829646488835810"
     },
     "user_tz": -480
    },
    "id": "vtEbwcufoMdQ",
    "outputId": "bd49525d-18db-47bc-b712-29fc12091d42"
   },
   "outputs": [],
   "source": []
  },
  {
   "cell_type": "markdown",
   "metadata": {
    "id": "PJAbKxkypHvP"
   },
   "source": [
    "### Data cleaning for the new rows added"
   ]
  },
  {
   "cell_type": "code",
   "execution_count": null,
   "metadata": {
    "colab": {
     "base_uri": "https://localhost:8080/"
    },
    "executionInfo": {
     "elapsed": 12,
     "status": "ok",
     "timestamp": 1700335443840,
     "user": {
      "displayName": "Jaryl L",
      "userId": "00435829646488835810"
     },
     "user_tz": -480
    },
    "id": "C_ZsnaW-pFX0",
    "outputId": "83ec3b31-ab2f-4b13-bb73-271ab2856125"
   },
   "outputs": [],
   "source": [
    "# Checking for null values\n"
   ]
  },
  {
   "cell_type": "markdown",
   "metadata": {
    "id": "1911RzicqHLs"
   },
   "source": [
    "### Addressing null values and irrelevant columns"
   ]
  },
  {
   "cell_type": "code",
   "execution_count": null,
   "metadata": {
    "id": "VLX6XpOvpOTA"
   },
   "outputs": [],
   "source": [
    "# Dropping irrelevant data column -> anticip\n"
   ]
  },
  {
   "cell_type": "code",
   "execution_count": null,
   "metadata": {
    "colab": {
     "base_uri": "https://localhost:8080/"
    },
    "executionInfo": {
     "elapsed": 10,
     "status": "ok",
     "timestamp": 1700335443840,
     "user": {
      "displayName": "Jaryl L",
      "userId": "00435829646488835810"
     },
     "user_tz": -480
    },
    "id": "-fMqiMkkqEf3",
    "outputId": "4df1ee8c-aa8e-4f6e-c218-7a5be370c1d9"
   },
   "outputs": [],
   "source": [
    "# Checking the columns in sort_data\n"
   ]
  },
  {
   "cell_type": "code",
   "execution_count": null,
   "metadata": {
    "id": "hvyCqHg5qQWT"
   },
   "outputs": [],
   "source": [
    "# Taking care of null values in anticipation\n"
   ]
  },
  {
   "cell_type": "code",
   "execution_count": null,
   "metadata": {
    "colab": {
     "base_uri": "https://localhost:8080/"
    },
    "executionInfo": {
     "elapsed": 9,
     "status": "ok",
     "timestamp": 1700335443840,
     "user": {
      "displayName": "Jaryl L",
      "userId": "00435829646488835810"
     },
     "user_tz": -480
    },
    "id": "-SX8XFo-qeZS",
    "outputId": "148a6c44-fac3-4283-8e5b-f40a1bc04992"
   },
   "outputs": [],
   "source": [
    "# Confirming that there are no null values\n"
   ]
  },
  {
   "cell_type": "code",
   "execution_count": null,
   "metadata": {
    "colab": {
     "base_uri": "https://localhost:8080/",
     "height": 1000
    },
    "executionInfo": {
     "elapsed": 8,
     "status": "ok",
     "timestamp": 1700335443840,
     "user": {
      "displayName": "Jaryl L",
      "userId": "00435829646488835810"
     },
     "user_tz": -480
    },
    "id": "iIiMpwoxqk4T",
    "outputId": "c69f207c-81cb-40eb-cd94-f4cc70f4b119"
   },
   "outputs": [],
   "source": [
    "# Overview of dataframe\n"
   ]
  },
  {
   "cell_type": "markdown",
   "metadata": {
    "id": "WQHPKtxprAvS"
   },
   "source": [
    "### Measuring the Correlation between the features"
   ]
  },
  {
   "cell_type": "code",
   "execution_count": null,
   "metadata": {
    "colab": {
     "base_uri": "https://localhost:8080/",
     "height": 1000
    },
    "executionInfo": {
     "elapsed": 1348,
     "status": "ok",
     "timestamp": 1700335445181,
     "user": {
      "displayName": "Jaryl L",
      "userId": "00435829646488835810"
     },
     "user_tz": -480
    },
    "id": "K6snuEvxqtCC",
    "outputId": "87ac6cb5-df82-4d77-c907-3fa7c8e5dce0"
   },
   "outputs": [],
   "source": [
    "# Plot a correlation matrix\n",
    "# corr_matrix = sort_data.corr(numeric_only=True)\n",
    "# fig,ax = plt.subplots(figsize=(12,12))\n",
    "# sns.heatmap(corr_matrix, annot=True)\n",
    "# plt.show()"
   ]
  },
  {
   "cell_type": "markdown",
   "metadata": {},
   "source": [
    "#### Is there any correlation? What does our heatmap mean?"
   ]
  }
 ],
 "metadata": {
  "colab": {
   "cell_execution_strategy": "setup",
   "collapsed_sections": [
    "J7ZRylLEUCt9"
   ],
   "provenance": [
    {
     "file_id": "1q_4_i14Wcuw5s1ZRqz7r302KyDge5h3-",
     "timestamp": 1700249232749
    },
    {
     "file_id": "13n89sf6KecvFrecX4JiHS9BXHs1awwJ5",
     "timestamp": 1699101943753
    },
    {
     "file_id": "1XvcRoptb8Fr9qHcheQlIkhiFy4lx0_pG",
     "timestamp": 1692178088135
    }
   ]
  },
  "kernelspec": {
   "display_name": ".venv",
   "language": "python",
   "name": "python3"
  },
  "language_info": {
   "codemirror_mode": {
    "name": "ipython",
    "version": 3
   },
   "file_extension": ".py",
   "mimetype": "text/x-python",
   "name": "python",
   "nbconvert_exporter": "python",
   "pygments_lexer": "ipython3",
   "version": "3.12.7"
  }
 },
 "nbformat": 4,
 "nbformat_minor": 0
}
